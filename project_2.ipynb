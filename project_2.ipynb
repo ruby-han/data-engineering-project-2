{
 "cells": [
  {
   "cell_type": "markdown",
   "metadata": {},
   "source": [
    "# MIDS W205 Project 2 Report - Ruby Han (Spring 2021)"
   ]
  },
  {
   "cell_type": "markdown",
   "metadata": {},
   "source": [
    "## Summary\n",
    "In this project, you work at an ed tech firm. You've created a service that delivers assessments, and now lots of different customers (e.g., Pearson) want to publish their assessments on it. You need to get ready for data scientists who work for these customers to run queries on the data.\n",
    "\n",
    "### Business Questions and Answers:\n",
    "\n",
    "**1) How many assessments are in the dataset?**\n",
    "\n",
    "3280\n",
    "\n",
    "**2) What's the name of your Kafka topic? How did you come up with that name?**\n",
    "\n",
    "`assessments` - We've created a service to deliver assessments hence naming the topic `assessments` make intuitive sense.\n",
    "\n",
    "**3) How many people took Learning Git?**\n",
    "\n",
    "394"
   ]
  },
  {
   "cell_type": "markdown",
   "metadata": {},
   "source": [
    "## Data Pipeline\n",
    "\n",
    "This section provides a high-level overview on tools/platforms used to extract, query and process data.\n",
    "\n",
    "- **Docker:** Provides contained environment to work in\n",
    "- **Kafka:** Message broker/Ingests data in a topic (**assessments** in this case)\n",
    "- **Spark:** Processes and reads data from Kafka in JSON format and extracts it\n",
    "- **HDFS (Hadoop Distributed File System):** Stores data in a format that is retrievable by other data scientists to query the assessment data and answer business questions\n",
    "\n",
    "The below section will dive deep into multiple sets of commands used to process data and spinning up the pipeline."
   ]
  },
  {
   "cell_type": "markdown",
   "metadata": {},
   "source": [
    "## Linux Command Lines\n",
    "### Outlines housekeeping and set-up of docker containers\n",
    "\n",
    "### $\\underline{\\text{Perform below commands only once:}}$\n",
    "- Copy in yml file\n",
    "```\n",
    "cp ~/w205/course-content/08-Querying-Data/docker-compose.yml .\n",
    "```\n",
    "- Download the assessments file\n",
    "```\n",
    "curl -L -o assessment-attempts-20180128-121051-nested.json https://goo.gl/ME6hjp\n",
    "```\n",
    "\n",
    "### $\\underline{\\text{Docker:}}$\n",
    "- Change into project 2 directory\n",
    "```\n",
    "cd ~w205/project-2-ruby-han/\n",
    "```\n",
    "- Bring up cluster and check\n",
    "```\n",
    "docker-compose up -d\n",
    "```\n",
    "- Check stray containers\n",
    "```\n",
    "docker-compose ps\n",
    "```\n",
    "- Remove stray containers\n",
    "```\n",
    "docker rm -f <NAMES>\n",
    "```\n",
    "- Do not remove below\n",
    "```\n",
    "0aacfde6644a   gcr.io/inverting-proxy/agent       \"/bin/sh -c '/opt/bi…\"   2 hours ago     Up 2 hours                                                                                          proxy-agent\n",
    "```\n",
    "- Check containers\n",
    "```\n",
    "docker ps -a\n",
    "```\n",
    "- Should output below if correct\n",
    "```\n",
    "CONTAINER ID   IMAGE                              COMMAND                  CREATED         STATUS         PORTS                                                                                NAMES\n",
    "a7c92bf83ade   confluentinc/cp-kafka:latest       \"/etc/confluent/dock…\"   5 minutes ago   Up 5 minutes   9092/tcp, 29092/tcp                                                                  project-2-ruby-han_kafka_1\n",
    "2ead54715098   midsw205/spark-python:0.0.5        \"docker-entrypoint.s…\"   5 minutes ago   Up 5 minutes   0.0.0.0:8888->8888/tcp                                                               project-2-ruby-han_spark_1\n",
    "24aa343687f5   midsw205/cdh-minimal:latest        \"cdh_startup_script.…\"   5 minutes ago   Up 5 minutes   8020/tcp, 8088/tcp, 8888/tcp, 9090/tcp, 11000/tcp, 11443/tcp, 19888/tcp, 50070/tcp   project-2-ruby-han_cloudera_1\n",
    "20c60035ecd8   midsw205/base:latest               \"/bin/bash\"              5 minutes ago   Up 5 minutes   8888/tcp                                                                             project-2-ruby-han_mids_1\n",
    "b5c8374014f9   confluentinc/cp-zookeeper:latest   \"/etc/confluent/dock…\"   5 minutes ago   Up 5 minutes   2181/tcp, 2888/tcp, 3888/tcp, 32181/tcp                                              project-2-ruby-han_zookeeper_1\n",
    "0aacfde6644a   gcr.io/inverting-proxy/agent       \"/bin/sh -c '/opt/bi…\"   2 hours ago     Up 2 hours                                                                                          proxy-agent\n",
    "```\n",
    "- To spin down cluster\n",
    "```\n",
    "docker-compose down\n",
    "```\n",
    "- Verify clusters are down\n",
    "```\n",
    "docker-compose ps\n",
    "docker ps -a\n",
    "```\n",
    "\n",
    "### $\\underline{\\text{Connecting Jupyter Notebook to Pyspark:}}$\n",
    "- Check docker-compose.yml file to ensure that Spark container has an expose section and ports section with below:\n",
    "```\n",
    "expose:\n",
    "  - \"8888\"\n",
    "ports:\n",
    "  - \"8888:8888\"\n",
    "```\n",
    "- Execute a bash shell into Spark container\n",
    "```\n",
    "docker-compose exec spark bash\n",
    "```\n",
    "- Create symbolic link from Spark directory to /w205\n",
    "```\n",
    "ln -s /w205 w205\n",
    "```\n",
    "- Exit container\n",
    "```\n",
    "exit\n",
    "```\n",
    "- Use Jupyter Notebook for Pyspark kernel and set IP address to 0.0.0.0\n",
    "```\n",
    "docker-compose exec spark env PYSPARK_DRIVER_PYTHON=jupyter PYSPARK_DRIVER_PYTHON_OPTS='notebook --no-browser --port 8888 --ip 0.0.0.0 --allow-root' pyspark\n",
    "```\n",
    "- Copy URL and change IP address to external IP address from Google Cloud VM to access Jupyter Notebook using Google Chrome brower in incognito mode\n",
    "```\n",
    "http://35.230.62.182:8888/?token=696f835d5d3612d431aeaaf8cf7af8ffebb15402cc49b7a9\n",
    "```\n",
    "- Check Hadoop is running correctly\n",
    "```\n",
    "docker-compose exec cloudera hadoop fs -ls /tmp/\n",
    "```\n",
    "- Should output below if it Hadoop is running correctly\n",
    "```\n",
    "Found 2 items\n",
    "drwxrwxrwt   - mapred mapred              0 2018-02-06 18:27 /tmp/hadoop-yarn\n",
    "drwx-wx-wx   - root   supergroup          0 2021-03-07 04:38 /tmp/hive\n",
    "```"
   ]
  },
  {
   "cell_type": "markdown",
   "metadata": {},
   "source": [
    "## Kafka\n",
    "### Commands for Kafka to ingest data\n",
    "\n",
    "- Create a topic named \"assessments\"\n",
    "```\n",
    "docker-compose exec kafka kafka-topics --create --topic assessments --partitions 1 --replication-factor 1 --if-not-exists --zookeeper zookeeper:32181\n",
    "```\n",
    "- Verify topic\n",
    "```\n",
    "docker-compose exec kafka kafka-topics --describe --topic assessments --zookeeper zookeeper:32181\n",
    "```\n",
    "- Expected output\n",
    "```\n",
    "Topic: assessments      PartitionCount: 1       ReplicationFactor: 1    Configs: \n",
    "        Topic: assessments      Partition: 0    Leader: 1       Replicas: 1     Isr: 1\n",
    "```\n",
    "- Kafkacat to produce test messages to \"assessments\" topic\n",
    "```\n",
    "docker-compose exec mids bash -c \"cat /w205/project-2-ruby-han/assessment-attempts-20180128-121051-nested.json | jq '.[]' -c | kafkacat -P -b kafka:29092 -t assessments\"\n",
    "```\n",
    "- Kafkacat to publish test messages for verification\n",
    "```\n",
    "docker-compose exec mids bash -c \"cat /w205/project-2-ruby-han/assessment-attempts-20180128-121051-nested.json | jq '.[]' -c | kafkacat -P -b kafka:29092 -t assessments && echo 'Produced 100 messages.'\"\n",
    "```\n",
    "- Kafkacat to read all messages (hard to read)\n",
    "```\n",
    "docker-compose exec mids bash -c \"kafkacat -C -b kafka:29092 -t assessments -o beginning -e\"\n",
    "```\n",
    "or\n",
    "```\n",
    "docker-compose exec mids bash -c \"cat /w205/project-2-ruby-han/assessment-attempts-20180128-121051-nested.json\n",
    "```\n",
    "- Kafkacat to read individual messages (hard to read)\n",
    "```\n",
    "docker-compose exec mids bash -c \"cat /w205/project-2-ruby-han/assessment-attempts-20180128-121051-nested.json | jq '.[]' -c\"\n",
    "```\n",
    "- Kafkacat to print messages in a readable format\n",
    "```\n",
    "docker-compose exec mids bash -c \"cat /w205/project-2-ruby-han/assessment-attempts-20180128-121051-nested.json | jq '.'\"\n",
    "```\n",
    "- Kafkacat to consume messages and print word count\n",
    "```\n",
    "docker-compose exec mids bash -c \"kafkacat -C -b kafka:29092 -t assessments -o beginning -e\" | wc -l\n",
    "```"
   ]
  },
  {
   "cell_type": "markdown",
   "metadata": {},
   "source": [
    "## Pyspark (Using Jupyter Notebook)\n",
    "### Process data from Kafka"
   ]
  },
  {
   "cell_type": "markdown",
   "metadata": {},
   "source": [
    "### Data Field Descriptions and Assumptions\n",
    "\n",
    "This section describes data fields and assumptions made based on given information.\n",
    "\n",
    "- **base_exam_id:** \n",
    "    - String type\n",
    "    - Exam ID\n",
    "    \n",
    "- **certification:**\n",
    "    - String type\n",
    "    - Assumed as certification achieved or attempted\n",
    "    \n",
    "- **exam_name:**\n",
    "    - String type\n",
    "    - Name of exam\n",
    "    - There is a mismatch between base_exam_id and exam_name\n",
    "    - Misinterpretation of these fields could occur or there could be different versions of exams not recorded in the exam name\n",
    "    - Regardless, remedying the mismatch is outside the scope of this project\n",
    "    - This should be kept in mind when interpreting the results and analyses\n",
    "    \n",
    "- **keen_created_at:**\n",
    "    - Timestamp type\n",
    "    - Timestamp for when 'keen' is created\n",
    "    - Unsure what 'keen' refers to\n",
    "\n",
    "- **keen_id:**\n",
    "    - String type\n",
    "    - Assumed to be unique identifier of assessment-takers\n",
    "\n",
    "- **keen_timestamp:**\n",
    "    - Timestamp type\n",
    "    - Second instance of timestamp\n",
    "    - Unsure what 'keen' refers to\n",
    "\n",
    "- **max_attempts:**\n",
    "    - Integer type\n",
    "    - Assumed to be number of maximum attempts allowed\n",
    "\n",
    "- **sequences:**\n",
    "    - Nested structure\n",
    "    - Drilled down levels:    \n",
    "        - **attempt:** number of attempts\n",
    "        - **counts:** another level of nested structure\n",
    "            - **all_correct:** all questions answered correctly or not\n",
    "            - **correct:** number of correct answers\n",
    "            - **incomplete:** number of incomplete questions\n",
    "            - **incorrect:** number of incorrect answers\n",
    "            - **submitted:** number of submitted answers\n",
    "            - **total:** total number of attempted questions\n",
    "            - **unanswered:** number of unanswered questions (unsure of the difference between this field vs incomplete)\n",
    "        - **id:** ID (unsure what this unique identifier refers to)\n",
    "        - **questions:** another level of nested structure\n",
    "            - **id:** question id\n",
    "            - **options:** another level of nested structure\n",
    "                - **at:** start timestamp of attempt\n",
    "                - **checked:** tracking checked question\n",
    "                - **correct:** tracking correctly answered question\n",
    "                - **id:** ID (unsure what this refers to)\n",
    "                - **submitted:** tracking submitted question     \n",
    "            - **user_correct:** whether user answered questions correctly or not\n",
    "            - **user_incomplete:** whether user complete questions or not\n",
    "            - **user_result:** user result\n",
    "            - **user_submitted:** user submission\n",
    "\n",
    "- **started_at:**\n",
    "    - Timestamp type\n",
    "    - Start timestamp of exam\n",
    "\n",
    "- **user_exam_id:**\n",
    "    - String type\n",
    "    - User ID for exam attempt"
   ]
  },
  {
   "cell_type": "code",
   "execution_count": 1,
   "metadata": {},
   "outputs": [
    {
     "data": {
      "text/html": [
       "\n",
       "            <div>\n",
       "                <p><b>SparkSession - hive</b></p>\n",
       "                \n",
       "        <div>\n",
       "            <p><b>SparkContext</b></p>\n",
       "\n",
       "            <p><a href=\"http://172.18.0.6:4040\">Spark UI</a></p>\n",
       "\n",
       "            <dl>\n",
       "              <dt>Version</dt>\n",
       "                <dd><code>v2.2.0</code></dd>\n",
       "              <dt>Master</dt>\n",
       "                <dd><code>local[*]</code></dd>\n",
       "              <dt>AppName</dt>\n",
       "                <dd><code>PySparkShell</code></dd>\n",
       "            </dl>\n",
       "        </div>\n",
       "        \n",
       "            </div>\n",
       "        "
      ],
      "text/plain": [
       "<pyspark.sql.session.SparkSession at 0x7fbabe30c4e0>"
      ]
     },
     "execution_count": 1,
     "metadata": {},
     "output_type": "execute_result"
    }
   ],
   "source": [
    "# run spark\n",
    "spark"
   ]
  },
  {
   "cell_type": "code",
   "execution_count": 2,
   "metadata": {},
   "outputs": [
    {
     "data": {
      "text/html": [
       "\n",
       "        <div>\n",
       "            <p><b>SparkContext</b></p>\n",
       "\n",
       "            <p><a href=\"http://172.18.0.6:4040\">Spark UI</a></p>\n",
       "\n",
       "            <dl>\n",
       "              <dt>Version</dt>\n",
       "                <dd><code>v2.2.0</code></dd>\n",
       "              <dt>Master</dt>\n",
       "                <dd><code>local[*]</code></dd>\n",
       "              <dt>AppName</dt>\n",
       "                <dd><code>PySparkShell</code></dd>\n",
       "            </dl>\n",
       "        </div>\n",
       "        "
      ],
      "text/plain": [
       "<SparkContext master=local[*] appName=PySparkShell>"
      ]
     },
     "execution_count": 2,
     "metadata": {},
     "output_type": "execute_result"
    }
   ],
   "source": [
    "sc"
   ]
  },
  {
   "cell_type": "code",
   "execution_count": 3,
   "metadata": {
    "collapsed": true
   },
   "outputs": [],
   "source": [
    "# process data from kafka using pyspark\n",
    "raw_assessments = spark.read.format(\"kafka\").option(\"kafka.bootstrap.servers\", \"kafka:29092\").option(\"subscribe\",\"assessments\").option(\"startingOffsets\", \"earliest\").option(\"endingOffsets\", \"latest\").load()"
   ]
  },
  {
   "cell_type": "code",
   "execution_count": 4,
   "metadata": {},
   "outputs": [
    {
     "data": {
      "text/plain": [
       "DataFrame[key: binary, value: binary, topic: string, partition: int, offset: bigint, timestamp: timestamp, timestampType: int]"
      ]
     },
     "execution_count": 4,
     "metadata": {},
     "output_type": "execute_result"
    }
   ],
   "source": [
    "# cache to reduce warnings\n",
    "raw_assessments.cache()"
   ]
  },
  {
   "cell_type": "code",
   "execution_count": 5,
   "metadata": {},
   "outputs": [
    {
     "name": "stdout",
     "output_type": "stream",
     "text": [
      "root\n",
      " |-- key: binary (nullable = true)\n",
      " |-- value: binary (nullable = true)\n",
      " |-- topic: string (nullable = true)\n",
      " |-- partition: integer (nullable = true)\n",
      " |-- offset: long (nullable = true)\n",
      " |-- timestamp: timestamp (nullable = true)\n",
      " |-- timestampType: integer (nullable = true)\n",
      "\n"
     ]
    }
   ],
   "source": [
    "# print schema\n",
    "raw_assessments.printSchema()"
   ]
  },
  {
   "cell_type": "code",
   "execution_count": 6,
   "metadata": {},
   "outputs": [
    {
     "name": "stdout",
     "output_type": "stream",
     "text": [
      "+----+--------------------+-----------+---------+------+--------------------+-------------+\n",
      "| key|               value|      topic|partition|offset|           timestamp|timestampType|\n",
      "+----+--------------------+-----------+---------+------+--------------------+-------------+\n",
      "|null|[7B 22 6B 65 65 6...|assessments|        0|     0|1969-12-31 23:59:...|            0|\n",
      "|null|[7B 22 6B 65 65 6...|assessments|        0|     1|1969-12-31 23:59:...|            0|\n",
      "|null|[7B 22 6B 65 65 6...|assessments|        0|     2|1969-12-31 23:59:...|            0|\n",
      "|null|[7B 22 6B 65 65 6...|assessments|        0|     3|1969-12-31 23:59:...|            0|\n",
      "|null|[7B 22 6B 65 65 6...|assessments|        0|     4|1969-12-31 23:59:...|            0|\n",
      "|null|[7B 22 6B 65 65 6...|assessments|        0|     5|1969-12-31 23:59:...|            0|\n",
      "|null|[7B 22 6B 65 65 6...|assessments|        0|     6|1969-12-31 23:59:...|            0|\n",
      "|null|[7B 22 6B 65 65 6...|assessments|        0|     7|1969-12-31 23:59:...|            0|\n",
      "|null|[7B 22 6B 65 65 6...|assessments|        0|     8|1969-12-31 23:59:...|            0|\n",
      "|null|[7B 22 6B 65 65 6...|assessments|        0|     9|1969-12-31 23:59:...|            0|\n",
      "|null|[7B 22 6B 65 65 6...|assessments|        0|    10|1969-12-31 23:59:...|            0|\n",
      "|null|[7B 22 6B 65 65 6...|assessments|        0|    11|1969-12-31 23:59:...|            0|\n",
      "|null|[7B 22 6B 65 65 6...|assessments|        0|    12|1969-12-31 23:59:...|            0|\n",
      "|null|[7B 22 6B 65 65 6...|assessments|        0|    13|1969-12-31 23:59:...|            0|\n",
      "|null|[7B 22 6B 65 65 6...|assessments|        0|    14|1969-12-31 23:59:...|            0|\n",
      "|null|[7B 22 6B 65 65 6...|assessments|        0|    15|1969-12-31 23:59:...|            0|\n",
      "|null|[7B 22 6B 65 65 6...|assessments|        0|    16|1969-12-31 23:59:...|            0|\n",
      "|null|[7B 22 6B 65 65 6...|assessments|        0|    17|1969-12-31 23:59:...|            0|\n",
      "|null|[7B 22 6B 65 65 6...|assessments|        0|    18|1969-12-31 23:59:...|            0|\n",
      "|null|[7B 22 6B 65 65 6...|assessments|        0|    19|1969-12-31 23:59:...|            0|\n",
      "+----+--------------------+-----------+---------+------+--------------------+-------------+\n",
      "only showing top 20 rows\n",
      "\n"
     ]
    }
   ],
   "source": [
    "# display messages\n",
    "raw_assessments.show()"
   ]
  },
  {
   "cell_type": "code",
   "execution_count": 7,
   "metadata": {
    "collapsed": true
   },
   "outputs": [],
   "source": [
    "# cast string type\n",
    "assessments = raw_assessments.select(raw_assessments.value.cast('string'))"
   ]
  },
  {
   "cell_type": "code",
   "execution_count": 8,
   "metadata": {},
   "outputs": [
    {
     "data": {
      "text/plain": [
       "DataFrame[value: string]"
      ]
     },
     "execution_count": 8,
     "metadata": {},
     "output_type": "execute_result"
    }
   ],
   "source": [
    "# take a look\n",
    "assessments"
   ]
  },
  {
   "cell_type": "code",
   "execution_count": 9,
   "metadata": {},
   "outputs": [
    {
     "name": "stdout",
     "output_type": "stream",
     "text": [
      "root\n",
      " |-- value: string (nullable = true)\n",
      "\n"
     ]
    }
   ],
   "source": [
    "# print schema\n",
    "assessments.printSchema()"
   ]
  },
  {
   "cell_type": "code",
   "execution_count": 10,
   "metadata": {},
   "outputs": [
    {
     "name": "stdout",
     "output_type": "stream",
     "text": [
      "+--------------------+\n",
      "|               value|\n",
      "+--------------------+\n",
      "|{\"keen_timestamp\"...|\n",
      "|{\"keen_timestamp\"...|\n",
      "|{\"keen_timestamp\"...|\n",
      "|{\"keen_timestamp\"...|\n",
      "|{\"keen_timestamp\"...|\n",
      "|{\"keen_timestamp\"...|\n",
      "|{\"keen_timestamp\"...|\n",
      "|{\"keen_timestamp\"...|\n",
      "|{\"keen_timestamp\"...|\n",
      "|{\"keen_timestamp\"...|\n",
      "|{\"keen_timestamp\"...|\n",
      "|{\"keen_timestamp\"...|\n",
      "|{\"keen_timestamp\"...|\n",
      "|{\"keen_timestamp\"...|\n",
      "|{\"keen_timestamp\"...|\n",
      "|{\"keen_timestamp\"...|\n",
      "|{\"keen_timestamp\"...|\n",
      "|{\"keen_timestamp\"...|\n",
      "|{\"keen_timestamp\"...|\n",
      "|{\"keen_timestamp\"...|\n",
      "+--------------------+\n",
      "only showing top 20 rows\n",
      "\n"
     ]
    }
   ],
   "source": [
    "# display messages\n",
    "assessments.show()"
   ]
  },
  {
   "cell_type": "code",
   "execution_count": 11,
   "metadata": {},
   "outputs": [
    {
     "name": "stdout",
     "output_type": "stream",
     "text": [
      "+---------------------------------------------------------------------------------------------------------------------------------------------------------------------------------------------------------------------------------------------------------------------------------------------------------------------------------------------------------------------------------------------------------------------------------------------------------------------------------------------------------------------------------------------------------------------------------------------------------------------------------------------------------------------------------------------------------------------------------------------------------------------------------------------------------------------------------------------------------------------------------------------------------------------------------------------------------------------------------------------------------------------------------------------------------------------------------------------------------------------------------------------------------------------------------------------------------------------------------------------------------------------------------------------------------------------------------------------------------------------------------------------------------------------------------------------------------------------------------------------------------------------------------------------------------------------------------------------------------------------------------------------------------------------------------------------------------------------------------------------------------------------------------------------------------------------------------------------------------------------------------------------------------------------------------------------------------------------------------------------------------------------------------------------------------------------------------------------------------------------------------------------------------------------------------------------------------------------------------------------------------------------------------------------------------------------------------------------------------------------------------------------------------------------------------------------------------------------------------------------------------------------------------------------------------------------------------------------------------------------------------------------------------------------------------------------------------------------------------------------------------------------------------------------------------------------------------------------------------------------------------------------------------------------------------------------------------------------------------------------------------------------------------------------------------------------------------------------------------------------------------------------------------------------------------------------------------------------------------------------------------------------------------------------------------------------------------------------------------------------------------------------------------------------------------------------------------------------------------------------------------------------------------------------------------------------------------------------------------------------------------------------------------------------------------------------------------------------------------------------------------------------------------------------------------------------------------------------------------------------------------------------------------------------------------------------------------------------------------------------------------------------------------------------------------------------------------------------+\n",
      "|value                                                                                                                                                                                                                                                                                                                                                                                                                                                                                                                                                                                                                                                                                                                                                                                                                                                                                                                                                                                                                                                                                                                                                                                                                                                                                                                                                                                                                                                                                                                                                                                                                                                                                                                                                                                                                                                                                                                                                                                                                                                                                                                                                                                                                                                                                                                                                                                                                                                                                                                                                                                                                                                                                                                                                                                                                                                                                                                                                                                                                                                                                                                                                                                                                                                                                                                                                                                                                                                                                                                                                                                                                                                                                                                                                                                                                                                                                                                                                                                                                                                                                        |\n",
      "+---------------------------------------------------------------------------------------------------------------------------------------------------------------------------------------------------------------------------------------------------------------------------------------------------------------------------------------------------------------------------------------------------------------------------------------------------------------------------------------------------------------------------------------------------------------------------------------------------------------------------------------------------------------------------------------------------------------------------------------------------------------------------------------------------------------------------------------------------------------------------------------------------------------------------------------------------------------------------------------------------------------------------------------------------------------------------------------------------------------------------------------------------------------------------------------------------------------------------------------------------------------------------------------------------------------------------------------------------------------------------------------------------------------------------------------------------------------------------------------------------------------------------------------------------------------------------------------------------------------------------------------------------------------------------------------------------------------------------------------------------------------------------------------------------------------------------------------------------------------------------------------------------------------------------------------------------------------------------------------------------------------------------------------------------------------------------------------------------------------------------------------------------------------------------------------------------------------------------------------------------------------------------------------------------------------------------------------------------------------------------------------------------------------------------------------------------------------------------------------------------------------------------------------------------------------------------------------------------------------------------------------------------------------------------------------------------------------------------------------------------------------------------------------------------------------------------------------------------------------------------------------------------------------------------------------------------------------------------------------------------------------------------------------------------------------------------------------------------------------------------------------------------------------------------------------------------------------------------------------------------------------------------------------------------------------------------------------------------------------------------------------------------------------------------------------------------------------------------------------------------------------------------------------------------------------------------------------------------------------------------------------------------------------------------------------------------------------------------------------------------------------------------------------------------------------------------------------------------------------------------------------------------------------------------------------------------------------------------------------------------------------------------------------------------------------------------------------------+\n",
      "|{\"keen_timestamp\":\"1516717442.735266\",\"max_attempts\":\"1.0\",\"started_at\":\"2018-01-23T14:23:19.082Z\",\"base_exam_id\":\"37f0a30a-7464-11e6-aa92-a8667f27e5dc\",\"user_exam_id\":\"6d4089e4-bde5-4a22-b65f-18bce9ab79c8\",\"sequences\":{\"questions\":[{\"user_incomplete\":true,\"user_correct\":false,\"options\":[{\"checked\":true,\"at\":\"2018-01-23T14:23:24.670Z\",\"id\":\"49c574b4-5c82-4ffd-9bd1-c3358faf850d\",\"submitted\":1,\"correct\":true},{\"checked\":true,\"at\":\"2018-01-23T14:23:25.914Z\",\"id\":\"f2528210-35c3-4320-acf3-9056567ea19f\",\"submitted\":1,\"correct\":true},{\"checked\":false,\"correct\":true,\"id\":\"d1bf026f-554f-4543-bdd2-54dcf105b826\"}],\"user_submitted\":true,\"id\":\"7a2ed6d3-f492-49b3-b8aa-d080a8aad986\",\"user_result\":\"missed_some\"},{\"user_incomplete\":false,\"user_correct\":false,\"options\":[{\"checked\":true,\"at\":\"2018-01-23T14:23:30.116Z\",\"id\":\"a35d0e80-8c49-415d-b8cb-c21a02627e2b\",\"submitted\":1},{\"checked\":false,\"correct\":true,\"id\":\"bccd6e2e-2cef-4c72-8bfa-317db0ac48bb\"},{\"checked\":true,\"at\":\"2018-01-23T14:23:41.791Z\",\"id\":\"7e0b639a-2ef8-4604-b7eb-5018bd81a91b\",\"submitted\":1,\"correct\":true}],\"user_submitted\":true,\"id\":\"bbed4358-999d-4462-9596-bad5173a6ecb\",\"user_result\":\"incorrect\"},{\"user_incomplete\":false,\"user_correct\":true,\"options\":[{\"checked\":false,\"at\":\"2018-01-23T14:23:52.510Z\",\"id\":\"a9333679-de9d-41ff-bb3d-b239d6b95732\"},{\"checked\":false,\"id\":\"85795acc-b4b1-4510-bd6e-41648a3553c9\"},{\"checked\":true,\"at\":\"2018-01-23T14:23:54.223Z\",\"id\":\"c185ecdb-48fb-4edb-ae4e-0204ac7a0909\",\"submitted\":1,\"correct\":true},{\"checked\":true,\"at\":\"2018-01-23T14:23:53.862Z\",\"id\":\"77a66c83-d001-45cd-9a5a-6bba8eb7389e\",\"submitted\":1,\"correct\":true}],\"user_submitted\":true,\"id\":\"e6ad8644-96b1-4617-b37b-a263dded202c\",\"user_result\":\"correct\"},{\"user_incomplete\":false,\"user_correct\":true,\"options\":[{\"checked\":false,\"id\":\"59b9fc4b-f239-4850-b1f9-912d1fd3ca13\"},{\"checked\":false,\"id\":\"2c29e8e8-d4a8-406e-9cdf-de28ec5890fe\"},{\"checked\":false,\"id\":\"62feee6e-9b76-4123-bd9e-c0b35126b1f1\"},{\"checked\":true,\"at\":\"2018-01-23T14:24:00.807Z\",\"id\":\"7f13df9c-fcbe-4424-914f-2206f106765c\",\"submitted\":1,\"correct\":true}],\"user_submitted\":true,\"id\":\"95194331-ac43-454e-83de-ea8913067055\",\"user_result\":\"correct\"}],\"attempt\":1,\"id\":\"5b28a462-7a3b-42e0-b508-09f3906d1703\",\"counts\":{\"incomplete\":1,\"submitted\":4,\"incorrect\":1,\"all_correct\":false,\"correct\":2,\"total\":4,\"unanswered\":0}},\"keen_created_at\":\"1516717442.735266\",\"certification\":\"false\",\"keen_id\":\"5a6745820eb8ab00016be1f1\",\"exam_name\":\"Normal Forms and All That Jazz Master Class\"}                                                                                                                                                                                                                                                                                                                                                                                                                                                                                                                                                                                                                                                                                                                                                                                                                                                                                                                                                                                                                                                                                                                                                                                                                                                                                                                                                                                                                                                                                                |\n",
      "|{\"keen_timestamp\":\"1516717377.639827\",\"max_attempts\":\"1.0\",\"started_at\":\"2018-01-23T14:21:47.505Z\",\"base_exam_id\":\"37f0a30a-7464-11e6-aa92-a8667f27e5dc\",\"user_exam_id\":\"2fec1534-b41f-4419-b741-79d372f05cbe\",\"sequences\":{\"questions\":[{\"user_incomplete\":false,\"user_correct\":true,\"options\":[{\"checked\":false,\"id\":\"62feee6e-9b76-4123-bd9e-c0b35126b1f1\"},{\"checked\":true,\"at\":\"2018-01-23T14:22:04.301Z\",\"id\":\"7f13df9c-fcbe-4424-914f-2206f106765c\",\"submitted\":1,\"correct\":true},{\"checked\":false,\"id\":\"2c29e8e8-d4a8-406e-9cdf-de28ec5890fe\"},{\"checked\":false,\"id\":\"59b9fc4b-f239-4850-b1f9-912d1fd3ca13\"}],\"user_submitted\":true,\"id\":\"95194331-ac43-454e-83de-ea8913067055\",\"user_result\":\"correct\"},{\"user_incomplete\":true,\"user_correct\":false,\"options\":[{\"checked\":true,\"at\":\"2018-01-23T14:22:24.525Z\",\"id\":\"7e0b639a-2ef8-4604-b7eb-5018bd81a91b\",\"submitted\":1,\"correct\":true},{\"checked\":false,\"correct\":true,\"id\":\"bccd6e2e-2cef-4c72-8bfa-317db0ac48bb\"},{\"checked\":false,\"id\":\"a35d0e80-8c49-415d-b8cb-c21a02627e2b\"}],\"user_submitted\":true,\"id\":\"bbed4358-999d-4462-9596-bad5173a6ecb\",\"user_result\":\"missed_some\"},{\"user_incomplete\":false,\"user_correct\":false,\"options\":[{\"checked\":true,\"at\":\"2018-01-23T14:22:39.396Z\",\"id\":\"c185ecdb-48fb-4edb-ae4e-0204ac7a0909\",\"submitted\":1,\"correct\":true},{\"checked\":true,\"at\":\"2018-01-23T14:22:35.081Z\",\"id\":\"77a66c83-d001-45cd-9a5a-6bba8eb7389e\",\"submitted\":1,\"correct\":true},{\"checked\":false,\"id\":\"85795acc-b4b1-4510-bd6e-41648a3553c9\"},{\"checked\":true,\"at\":\"2018-01-23T14:22:48.197Z\",\"id\":\"a9333679-de9d-41ff-bb3d-b239d6b95732\",\"submitted\":1}],\"user_submitted\":true,\"id\":\"e6ad8644-96b1-4617-b37b-a263dded202c\",\"user_result\":\"incorrect\"},{\"user_incomplete\":true,\"user_correct\":false,\"options\":[{\"checked\":false,\"correct\":true,\"id\":\"d1bf026f-554f-4543-bdd2-54dcf105b826\"},{\"checked\":false,\"correct\":true,\"id\":\"f2528210-35c3-4320-acf3-9056567ea19f\"},{\"checked\":true,\"at\":\"2018-01-23T14:22:55.494Z\",\"id\":\"49c574b4-5c82-4ffd-9bd1-c3358faf850d\",\"submitted\":1,\"correct\":true}],\"user_submitted\":true,\"id\":\"7a2ed6d3-f492-49b3-b8aa-d080a8aad986\",\"user_result\":\"missed_some\"}],\"attempt\":1,\"id\":\"5b28a462-7a3b-42e0-b508-09f3906d1703\",\"counts\":{\"incomplete\":2,\"submitted\":4,\"incorrect\":1,\"all_correct\":false,\"correct\":1,\"total\":4,\"unanswered\":0}},\"keen_created_at\":\"1516717377.639827\",\"certification\":\"false\",\"keen_id\":\"5a674541ab6b0a0001c6e723\",\"exam_name\":\"Normal Forms and All That Jazz Master Class\"}                                                                                                                                                                                                                                                                                                                                                                                                                                                                                                                                                                                                                                                                                                                                                                                                                                                                                                                                                                                                                                                                                                                                                                                                                                                                                                                                                                                                                                                                                                                                                                         |\n",
      "|{\"keen_timestamp\":\"1516738973.653394\",\"max_attempts\":\"1.0\",\"started_at\":\"2018-01-23T20:22:22.584Z\",\"base_exam_id\":\"4beeac16-bb83-4d58-83e4-26cdc38f0481\",\"user_exam_id\":\"8edbc8a8-4d26-4292-a5af-ae3f246cb09f\",\"sequences\":{\"questions\":[{\"user_incomplete\":false,\"user_correct\":false,\"options\":[{\"checked\":true,\"at\":\"2018-01-23T20:22:39.089Z\",\"id\":\"c315723f-4753-4f8f-932e-d9d7085fed28\",\"submitted\":1},{\"checked\":true,\"at\":\"2018-01-23T20:22:27.250Z\",\"id\":\"f298bc63-9075-45bc-8b95-9c8c979bf779\",\"submitted\":1,\"correct\":true},{\"checked\":false,\"correct\":true,\"id\":\"302fa72e-3949-46a1-9dd9-668fac9c1fc1\"}],\"user_submitted\":true,\"id\":\"b9ff2e88-cf9d-4bd4-bcea-c2673779425c\",\"user_result\":\"incorrect\"},{\"user_incomplete\":false,\"user_correct\":true,\"options\":[{\"checked\":true,\"at\":\"2018-01-23T20:22:41.102Z\",\"id\":\"60b45b0b-f20c-42eb-8b26-61ef690fd1ba\",\"submitted\":1,\"correct\":true},{\"checked\":false,\"id\":\"a5a583b6-9c3a-4147-afbb-d6fbfc516c85\"},{\"checked\":true,\"at\":\"2018-01-23T20:22:42.988Z\",\"id\":\"a3e31a57-6407-40f1-9808-c7f2ed8e7f95\",\"submitted\":1,\"correct\":true},{\"checked\":true,\"at\":\"2018-01-23T20:22:44.447Z\",\"id\":\"aae4e562-49bf-46ca-808a-5300ac4b08d1\",\"submitted\":1,\"correct\":true}],\"user_submitted\":true,\"id\":\"bec23e7b-4870-49f7-92c1-1e0a016ef7c9\",\"user_result\":\"correct\"},{\"user_incomplete\":false,\"user_correct\":true,\"options\":[{\"checked\":false,\"id\":\"ac290741-c86c-491a-9872-72213e947a70\"},{\"checked\":true,\"at\":\"2018-01-23T20:22:46.048Z\",\"id\":\"a9d65a6d-0fdf-4518-b1a0-900d9248f123\",\"submitted\":1,\"correct\":true}],\"user_submitted\":true,\"id\":\"1ba75b31-64a4-4bd3-9646-25aa3b73505f\",\"user_result\":\"correct\"},{\"user_incomplete\":false,\"user_correct\":true,\"options\":[{\"checked\":false,\"id\":\"cb8e8ecb-5a24-4712-ae46-81bc5b858c3b\"},{\"checked\":false,\"id\":\"429b03ec-bda9-4d4a-bd7f-e2d208cbb5fc\"},{\"checked\":true,\"at\":\"2018-01-23T20:22:50.811Z\",\"id\":\"1cdc931d-dbfb-4aea-bcb8-57be503bb649\",\"submitted\":1,\"correct\":true},{\"checked\":true,\"at\":\"2018-01-23T20:22:52.423Z\",\"id\":\"088b406e-1fa6-419f-8193-d41c29ee4d57\",\"submitted\":1,\"correct\":true}],\"user_submitted\":true,\"id\":\"1f7c5def-904b-4834-8519-639a3b22a496\",\"user_result\":\"correct\"}],\"attempt\":1,\"id\":\"b370a3aa-bf9e-4c10-848a-8ecacbd1d93e\",\"counts\":{\"incomplete\":0,\"submitted\":4,\"incorrect\":1,\"all_correct\":false,\"correct\":3,\"total\":4,\"unanswered\":0}},\"keen_created_at\":\"1516738973.653394\",\"certification\":\"false\",\"keen_id\":\"5a67999d3ed3e300016ef0f1\",\"exam_name\":\"The Principles of Microservices\"}                                                                                                                                                                                                                                                                                                                                                                                                                                                                                                                                                                                                                                                                                                                                                                                                                                                                                                                                                                                                                                                                                                                                                                                                                                                                                                                                                                                                                                                                                                                                                                 |\n",
      "|{\"keen_timestamp\":\"1516738921.1137421\",\"max_attempts\":\"1.0\",\"started_at\":\"2018-01-23T20:21:10.833Z\",\"base_exam_id\":\"4beeac16-bb83-4d58-83e4-26cdc38f0481\",\"user_exam_id\":\"c0ee680e-8892-4e64-a7f2-bb576a665dc5\",\"sequences\":{\"questions\":[{\"user_incomplete\":false,\"user_correct\":true,\"options\":[{\"checked\":false,\"id\":\"429b03ec-bda9-4d4a-bd7f-e2d208cbb5fc\"},{\"checked\":true,\"at\":\"2018-01-23T20:21:16.528Z\",\"id\":\"088b406e-1fa6-419f-8193-d41c29ee4d57\",\"submitted\":1,\"correct\":true},{\"checked\":false,\"id\":\"cb8e8ecb-5a24-4712-ae46-81bc5b858c3b\"},{\"checked\":true,\"at\":\"2018-01-23T20:21:20.089Z\",\"id\":\"1cdc931d-dbfb-4aea-bcb8-57be503bb649\",\"submitted\":1,\"correct\":true}],\"user_submitted\":true,\"id\":\"1f7c5def-904b-4834-8519-639a3b22a496\",\"user_result\":\"correct\"},{\"user_incomplete\":true,\"user_correct\":false,\"options\":[{\"checked\":true,\"at\":\"2018-01-23T20:21:31.682Z\",\"id\":\"aae4e562-49bf-46ca-808a-5300ac4b08d1\",\"submitted\":1,\"correct\":true},{\"checked\":false,\"id\":\"a5a583b6-9c3a-4147-afbb-d6fbfc516c85\"},{\"checked\":false,\"correct\":true,\"id\":\"a3e31a57-6407-40f1-9808-c7f2ed8e7f95\"},{\"checked\":true,\"at\":\"2018-01-23T20:21:34.849Z\",\"id\":\"60b45b0b-f20c-42eb-8b26-61ef690fd1ba\",\"submitted\":1,\"correct\":true}],\"user_submitted\":true,\"id\":\"bec23e7b-4870-49f7-92c1-1e0a016ef7c9\",\"user_result\":\"missed_some\"},{\"user_incomplete\":false,\"user_correct\":true,\"options\":[{\"checked\":true,\"at\":\"2018-01-23T20:21:39.798Z\",\"id\":\"a9d65a6d-0fdf-4518-b1a0-900d9248f123\",\"submitted\":1,\"correct\":true},{\"checked\":false,\"id\":\"ac290741-c86c-491a-9872-72213e947a70\"}],\"user_submitted\":true,\"id\":\"1ba75b31-64a4-4bd3-9646-25aa3b73505f\",\"user_result\":\"correct\"},{\"user_incomplete\":true,\"user_correct\":false,\"options\":[{\"checked\":false,\"id\":\"c315723f-4753-4f8f-932e-d9d7085fed28\"},{\"checked\":false,\"correct\":true,\"id\":\"302fa72e-3949-46a1-9dd9-668fac9c1fc1\"},{\"checked\":true,\"at\":\"2018-01-23T20:21:59.075Z\",\"id\":\"f298bc63-9075-45bc-8b95-9c8c979bf779\",\"submitted\":1,\"correct\":true}],\"user_submitted\":true,\"id\":\"b9ff2e88-cf9d-4bd4-bcea-c2673779425c\",\"user_result\":\"missed_some\"}],\"attempt\":1,\"id\":\"b370a3aa-bf9e-4c10-848a-8ecacbd1d93e\",\"counts\":{\"incomplete\":2,\"submitted\":4,\"incorrect\":0,\"all_correct\":false,\"correct\":2,\"total\":4,\"unanswered\":0}},\"keen_created_at\":\"1516738921.1137421\",\"certification\":\"false\",\"keen_id\":\"5a6799694fc7c70001034706\",\"exam_name\":\"The Principles of Microservices\"}                                                                                                                                                                                                                                                                                                                                                                                                                                                                                                                                                                                                                                                                                                                                                                                                                                                                                                                                                                                                                                                                                                                                                                                                                                                                                                                                                                                                                                                                                                                                                                                                                                                    |\n",
      "|{\"keen_timestamp\":\"1516737000.212122\",\"max_attempts\":\"1.0\",\"started_at\":\"2018-01-23T19:48:42.477Z\",\"base_exam_id\":\"6442707e-7488-11e6-831b-a8667f27e5dc\",\"user_exam_id\":\"e4525b79-7904-4050-a068-27969b01f6bd\",\"sequences\":{\"questions\":[{\"user_incomplete\":false,\"user_correct\":false,\"options\":[{\"checked\":true,\"at\":\"2018-01-23T19:48:59.018Z\",\"id\":\"5a3ba547-6bd8-11e6-9cfa-a8667f27e5dc\",\"submitted\":1},{\"checked\":true,\"at\":\"2018-01-23T19:48:52.771Z\",\"id\":\"53b3130a-6bd8-11e6-808b-a8667f27e5dc\",\"submitted\":1,\"correct\":true},{\"checked\":true,\"at\":\"2018-01-23T19:48:56.446Z\",\"id\":\"4cf30168-6bd8-11e6-8826-a8667f27e5dc\",\"submitted\":1,\"correct\":true},{\"checked\":false,\"id\":\"4f4b0ee9-71f2-476e-b045-23d72f8b0bfc\"}],\"user_submitted\":true,\"id\":\"620c924f-6bd8-11e6-bcbd-a8667f27e5dc\",\"user_result\":\"incorrect\"},{\"user_incomplete\":false,\"user_correct\":true,\"options\":[{\"checked\":false,\"id\":\"ec558988-76ac-11e6-9f14-a8667f27e5dc\"},{\"checked\":true,\"at\":\"2018-01-23T19:49:24.216Z\",\"id\":\"dc7c8cc8-76ac-11e6-a12a-a8667f27e5dc\",\"submitted\":1,\"correct\":true},{\"checked\":false,\"id\":\"ce3f6b30-76ac-11e6-935d-a8667f27e5dc\"},{\"checked\":true,\"at\":\"2018-01-23T19:49:28.815Z\",\"id\":\"d5390790-76ac-11e6-a4c9-a8667f27e5dc\",\"submitted\":1,\"correct\":true}],\"user_submitted\":true,\"id\":\"f4bc7618-76ac-11e6-a6c9-a8667f27e5dc\",\"user_result\":\"correct\"},{\"user_incomplete\":false,\"user_correct\":true,\"options\":[{\"checked\":false,\"id\":\"28e7b459-6bd8-11e6-8def-a8667f27e5dc\"},{\"checked\":true,\"at\":\"2018-01-23T19:49:44.656Z\",\"id\":\"1fa888ba-6bd8-11e6-85c8-a8667f27e5dc\",\"submitted\":1,\"correct\":true}],\"user_submitted\":true,\"id\":\"42d6d026-6bd8-11e6-bd61-a8667f27e5dc\",\"user_result\":\"correct\"},{\"user_incomplete\":false,\"user_correct\":true,\"options\":[{\"checked\":false,\"id\":\"72588554-6bd8-11e6-8bdb-a8667f27e5dc\"},{\"checked\":false,\"id\":\"7bb18719-6bd8-11e6-9a07-a8667f27e5dc\"},{\"checked\":false,\"id\":\"d1452429-4c17-4ac5-a266-a2ae70748e56\"},{\"checked\":true,\"at\":\"2018-01-23T19:49:56.912Z\",\"id\":\"692c0975-6bd8-11e6-b682-a8667f27e5dc\",\"submitted\":1,\"correct\":true}],\"user_submitted\":true,\"id\":\"8372371c-6bd8-11e6-82fc-a8667f27e5dc\",\"user_result\":\"correct\"}],\"attempt\":1,\"id\":\"04a192c1-4f5c-4ac1-91df-3f175996af99\",\"counts\":{\"incomplete\":0,\"submitted\":4,\"incorrect\":1,\"all_correct\":false,\"correct\":3,\"total\":4,\"unanswered\":0}},\"keen_created_at\":\"1516737000.212122\",\"certification\":\"false\",\"keen_id\":\"5a6791e824fccd00018c3ff9\",\"exam_name\":\"Introduction to Big Data\"}                                                                                                                                                                                                                                                                                                                                                                                                                                                                                                                                                                                                                                                                                                                                                                                                                                                                                                                                                                                                                                                                                                                                                                                                                                                                                                                                                                                                                                                                                                                                                                                     |\n",
      "|{\"keen_timestamp\":\"1516740790.309757\",\"max_attempts\":\"1.0\",\"started_at\":\"2018-01-23T20:51:47.282Z\",\"base_exam_id\":\"8b4488de-43a5-4ffa-bf82-af1e19ee1b64\",\"user_exam_id\":\"3186dafa-7acf-47e8-880e-c5104dcc6819\",\"sequences\":{\"questions\":[{\"user_incomplete\":false,\"user_correct\":true,\"options\":[{\"checked\":false,\"id\":\"c464fd9f-923b-4b68-9eac-f77e6d523564\"},{\"checked\":true,\"at\":\"2018-01-23T20:52:00.629Z\",\"id\":\"320ca88b-bf1b-4161-8958-2a2580cec5ee\",\"submitted\":1,\"correct\":true},{\"checked\":false,\"id\":\"c57c90b4-efa6-4a1d-aa77-80ee8e8f45a2\"}],\"user_submitted\":true,\"id\":\"fb07b16e-84a2-4654-a1d2-eafaabd9b747\",\"user_result\":\"correct\"},{\"user_incomplete\":false,\"user_correct\":true,\"options\":[{\"checked\":false,\"id\":\"f25ef2b5-2f8c-41ed-b0a2-9a11252edd43\"},{\"checked\":true,\"at\":\"2018-01-23T20:52:12.320Z\",\"id\":\"41396dca-1e34-41bc-9bc0-0efb20b787fb\",\"submitted\":1,\"correct\":true},{\"checked\":false,\"id\":\"95c6ed37-3af3-4bc5-92e5-b27c75f7150d\"},{\"checked\":false,\"id\":\"37659869-988c-4913-8556-b59d789f2f13\"}],\"user_submitted\":true,\"id\":\"d10c5c1f-956a-4290-8122-71c8a37597c8\",\"user_result\":\"correct\"},{\"user_incomplete\":false,\"user_correct\":true,\"options\":[{\"checked\":true,\"at\":\"2018-01-23T20:52:40.760Z\",\"id\":\"51c29733-20e9-437e-8eef-8927f4c06cd8\",\"submitted\":1,\"correct\":true},{\"checked\":false,\"id\":\"b9c93b54-74f5-4666-9f9d-2e4189897611\"},{\"checked\":false,\"id\":\"c6c1f3f2-f0c2-47c4-8ca9-154192700763\"},{\"checked\":false,\"id\":\"cd016b18-fb13-4b20-90ac-ba99a98faf50\"}],\"user_submitted\":true,\"id\":\"51b6a32e-80cb-4d5d-b5c6-3209facd8694\",\"user_result\":\"correct\"},{\"user_incomplete\":false,\"user_correct\":true,\"options\":[{\"checked\":false,\"id\":\"679fb1b3-26c5-4489-8808-044cf2d785c3\"},{\"checked\":true,\"at\":\"2018-01-23T20:52:56.003Z\",\"id\":\"a2730826-2b90-4a1f-a495-3d7ec2d6de16\",\"submitted\":1,\"correct\":true},{\"checked\":false,\"id\":\"7f1956c7-4eea-4f41-87ba-23338ca22987\"},{\"checked\":false,\"id\":\"9d303de1-32c1-4a9b-b6df-54ea3912a341\"}],\"user_submitted\":true,\"id\":\"5cc84ec3-713c-45f0-a9b8-711a369d0dfc\",\"user_result\":\"correct\"},{\"user_incomplete\":false,\"user_correct\":true,\"options\":[{\"checked\":false,\"id\":\"a8b278fc-74e2-4d5d-9a50-4158a8b34eff\"},{\"checked\":false,\"id\":\"5da1ab3b-9bce-4d82-8c0a-0c7c962d69ae\"},{\"checked\":false,\"id\":\"428a61bc-b8b3-4101-b575-c79f56267737\"},{\"checked\":true,\"at\":\"2018-01-23T20:53:08.554Z\",\"id\":\"00f18c5b-40f6-483e-b60d-1d1eda18ea13\",\"submitted\":1,\"correct\":true}],\"user_submitted\":true,\"id\":\"54fabf21-1486-41c4-a000-fc00abc4d353\",\"user_result\":\"correct\"}],\"attempt\":1,\"id\":\"e7110aed-0d08-4cb3-9eca-3eb7caad0256\",\"counts\":{\"incomplete\":0,\"submitted\":5,\"incorrect\":0,\"all_correct\":true,\"correct\":5,\"total\":5,\"unanswered\":0}},\"keen_created_at\":\"1516740790.309757\",\"certification\":\"false\",\"keen_id\":\"5a67a0b6852c2a00018891fa\",\"exam_name\":\"Learning Git\"}                                                                                                                                                                                                                                                                                                                                                                                                                                                                                                                                                                                                                                                                                                                                                                                                                                                                                                                                                                                                                                                                                                                                                                                                                                    |\n",
      "|{\"keen_timestamp\":\"1516746279.3801291\",\"max_attempts\":\"1.0\",\"started_at\":\"2018-01-23T22:24:34.192Z\",\"base_exam_id\":\"e1f07fac-5566-4fdd-95e0-b6aa06fd5b50\",\"user_exam_id\":\"48d88326-36a3-4cb4-b1de-aee24759d8a3\",\"sequences\":{\"questions\":[{\"user_incomplete\":false,\"user_correct\":true,\"options\":[{\"checked\":false,\"id\":\"9e54b46b-779c-40e6-9fbd-6c2dd801f377\"},{\"checked\":false,\"id\":\"f35165f9-4ceb-4b6f-b1aa-830fb3d861f9\"},{\"checked\":true,\"at\":\"2018-01-23T22:30:58.374Z\",\"id\":\"f17535b9-46bb-400a-a769-c5d2d5fff6cf\",\"submitted\":1,\"correct\":true},{\"checked\":false,\"id\":\"d7caa749-8568-46a6-9dae-0730e5520664\"}],\"user_submitted\":true,\"id\":\"247b4589-7f8c-4a46-905c-63e0fa4731af\",\"user_result\":\"correct\"}],\"attempt\":1,\"id\":\"5251db24-2a6e-4247-ab89-c277fb255405\",\"counts\":{\"incomplete\":0,\"submitted\":1,\"incorrect\":0,\"all_correct\":true,\"correct\":1,\"total\":1,\"unanswered\":0}},\"keen_created_at\":\"1516746279.3801291\",\"certification\":\"false\",\"keen_id\":\"5a67b627cc80e60001343664\",\"exam_name\":\"Git Fundamentals for Web Developers\"}                                                                                                                                                                                                                                                                                                                                                                                                                                                                                                                                                                                                                                                                                                                                                                                                                                                                                                                                                                                                                                                                                                                                                                                                                                                                                                                                                                                                                                                                                                                                                                                                                                                                                                                                                                                                                                                                                                                                                                                                                                                                                                                                                                                                                                                                                                                                                                                                                                                                                                                                                                                                                                                                                                                                                                                                                                                                                                                                                                                                                                             |\n",
      "|{\"keen_timestamp\":\"1516743820.305464\",\"max_attempts\":\"1.0\",\"started_at\":\"2018-01-23T21:43:06.149Z\",\"base_exam_id\":\"7e2e0b53-a7ba-458d-8bc6-356f8dea8815\",\"user_exam_id\":\"bb152d6b-cada-41e8-aa6b-0f28a15d98ca\",\"sequences\":{\"questions\":[{\"user_incomplete\":false,\"user_correct\":true,\"options\":[{\"checked\":false,\"id\":\"47363862-3455-4975-ad3c-900031d105b0\"},{\"checked\":false,\"id\":\"8f70050b-7352-4cfe-94b8-c8ac439618bd\"},{\"checked\":true,\"at\":\"2018-01-23T21:43:09.274Z\",\"id\":\"81f2a8cc-8143-4d84-9d1b-426056f23650\",\"submitted\":1,\"correct\":true}],\"user_submitted\":true,\"id\":\"fc3bdc54-04a8-4b46-976b-43c15bb96e1b\",\"user_result\":\"correct\"},{\"user_incomplete\":false,\"user_correct\":true,\"options\":[{\"checked\":false,\"id\":\"03aa3804-4699-45f1-bfc7-a75d068555e2\"},{\"checked\":false,\"id\":\"210263ed-1026-41fe-a1f2-e8884a22a04b\"},{\"checked\":true,\"at\":\"2018-01-23T21:43:20.278Z\",\"id\":\"45dea466-e0aa-42e8-8079-8e3a2dfb9891\",\"submitted\":1,\"correct\":true},{\"checked\":true,\"at\":\"2018-01-23T21:43:15.446Z\",\"id\":\"f398bf48-0a6a-4ae4-a606-06050b23aad6\",\"submitted\":1,\"correct\":true},{\"checked\":true,\"at\":\"2018-01-23T21:43:15.835Z\",\"id\":\"12806e1a-d900-47d6-ac10-aec303c4f032\",\"submitted\":1,\"correct\":true},{\"checked\":false,\"id\":\"91172243-e066-44b0-852c-df7a6476db7f\"}],\"user_submitted\":true,\"id\":\"34eacafb-dd6a-424c-a6b8-287b0e0ce17d\",\"user_result\":\"correct\"},{\"user_incomplete\":false,\"user_correct\":true,\"options\":[{\"checked\":true,\"at\":\"2018-01-23T21:43:21.957Z\",\"id\":\"765bc403-4674-42b5-93ba-252d4b5fae31\",\"submitted\":1,\"correct\":true},{\"checked\":false,\"id\":\"adc2395d-7bd4-48e3-89c8-40175f7cbb86\"},{\"checked\":true,\"at\":\"2018-01-23T21:43:22.675Z\",\"id\":\"d4e7cc0b-a675-44b0-bbbc-244150e09ef5\",\"submitted\":1,\"correct\":true},{\"checked\":false,\"id\":\"4ba0ac68-a7f6-4ff7-ba4f-ed0e2ffc6574\"},{\"checked\":true,\"at\":\"2018-01-23T21:43:23.844Z\",\"id\":\"348e36c7-4ba1-43a0-bff0-2a9cd15a6319\",\"submitted\":1,\"correct\":true},{\"checked\":false,\"id\":\"6549d29c-1f58-44ac-8951-b850a673aa5d\"}],\"user_submitted\":true,\"id\":\"9a1791b2-0015-44d3-90bc-308fe48d0932\",\"user_result\":\"correct\"},{\"user_incomplete\":false,\"user_correct\":true,\"options\":[{\"checked\":false,\"id\":\"77b4aac6-56b9-48fc-aefd-f4f4a893a9b5\"},{\"checked\":false,\"id\":\"e4012b2e-2da6-409f-af6e-7c06c2f4a22d\"},{\"checked\":true,\"at\":\"2018-01-23T21:43:34.438Z\",\"id\":\"bc676d81-2ac7-4a11-8b3c-2aa0fbbba0a9\",\"submitted\":1,\"correct\":true},{\"checked\":false,\"id\":\"045427d5-bb0a-4587-bab9-d13761ab16f7\"}],\"user_submitted\":true,\"id\":\"7bdbbf4a-b5d8-4c7c-9833-bb2914188b33\",\"user_result\":\"correct\"},{\"user_incomplete\":false,\"user_correct\":true,\"options\":[{\"checked\":false,\"id\":\"cf689fa7-4ed6-4eff-b14f-fc72cd318878\"},{\"checked\":false,\"id\":\"8f2ecc6d-ce53-47af-9736-c1f996c923a3\"},{\"checked\":true,\"at\":\"2018-01-23T21:43:38.991Z\",\"id\":\"53109aa4-aa42-4a04-b8bc-e35ee97c3a69\",\"submitted\":1,\"correct\":true},{\"checked\":true,\"at\":\"2018-01-23T21:43:39.445Z\",\"id\":\"8ae6e2e1-bc1f-4b66-afc0-13f6622514fe\",\"submitted\":1,\"correct\":true}],\"user_submitted\":true,\"id\":\"29801002-1cc9-43c2-8456-fbe7811a70ff\",\"user_result\":\"correct\"}],\"attempt\":1,\"id\":\"066b5326-e547-4dab-ad24-ae751f0059d3\",\"counts\":{\"incomplete\":0,\"submitted\":5,\"incorrect\":0,\"all_correct\":true,\"correct\":5,\"total\":5,\"unanswered\":0}},\"keen_created_at\":\"1516743820.305464\",\"certification\":\"false\",\"keen_id\":\"5a67ac8cb0a5f400017d9919\",\"exam_name\":\"Introduction to Python\"}                                                                                                                                                                                                                                                                                                                                                                                                                                                                                                                                                                                                                                                      |\n",
      "|{\"keen_timestamp\":\"1516743098.56811\",\"max_attempts\":\"1.0\",\"started_at\":\"2018-01-23T21:31:08.460Z\",\"base_exam_id\":\"1a233da8-e6e5-48a6-8c3c-806e312cce12\",\"user_exam_id\":\"70073d6f-ced5-4d07-a650-3caca9be2f54\",\"sequences\":{\"questions\":[{\"user_incomplete\":false,\"user_correct\":true,\"options\":[{\"checked\":false,\"id\":\"ba4b7f92-44e1-49ff-8eec-c08252921363\"},{\"checked\":false,\"id\":\"8d17b617-c021-4599-95ce-722b5785709a\"},{\"checked\":true,\"at\":\"2018-01-23T21:31:10.886Z\",\"id\":\"db4c8f7c-f4d7-4367-9117-52bd39246e14\",\"submitted\":1,\"correct\":true},{\"checked\":false,\"id\":\"9764f37a-e28a-4ab8-b106-a9deaa58bc42\"}],\"user_submitted\":true,\"id\":\"803fc93f-7eb2-4121-af8c-ff809e850f10\",\"user_result\":\"correct\"},{\"user_incomplete\":false,\"user_correct\":true,\"options\":[{\"checked\":false,\"at\":\"2018-01-23T21:31:18.630Z\",\"id\":\"7daed693-eaa0-4299-ac31-072fb9d4cd86\"},{\"checked\":false,\"id\":\"338cf4a1-e8ab-4751-9892-ee1cd0ee52d4\"},{\"checked\":true,\"at\":\"2018-01-23T21:31:19.322Z\",\"id\":\"fc820a68-189f-48c3-a5f6-f72775ae1985\",\"submitted\":1,\"correct\":true},{\"checked\":false,\"id\":\"b19c8abe-e2d1-4af1-824a-d2c10be41446\"}],\"user_submitted\":true,\"id\":\"32fe7d8d-6d89-4db4-a17a-a368c5ea3ca0\",\"user_result\":\"correct\"},{\"user_incomplete\":false,\"user_correct\":true,\"options\":[{\"checked\":false,\"id\":\"e25f1929-fb04-4c1e-849a-751d7b4b8a10\"},{\"checked\":true,\"at\":\"2018-01-23T21:31:31.708Z\",\"id\":\"f3f1fdcc-80c1-4897-bf2a-45edcd3a3564\",\"submitted\":1,\"correct\":true},{\"checked\":true,\"at\":\"2018-01-23T21:31:24.509Z\",\"id\":\"724423f9-8028-4d0c-bbb4-069283d5cfa5\",\"submitted\":1,\"correct\":true},{\"checked\":false,\"id\":\"59f346f7-e92f-4860-bfb6-385eb041513d\"}],\"user_submitted\":true,\"id\":\"f3cb88cc-5b79-41bb-96d3-7ec7d698b964\",\"user_result\":\"correct\"},{\"user_incomplete\":false,\"user_correct\":true,\"options\":[{\"checked\":false,\"id\":\"000db74a-f463-42e0-b07f-219653da78f1\"},{\"checked\":true,\"at\":\"2018-01-23T21:31:22.525Z\",\"id\":\"2da628dc-44bb-4d27-a3f2-9198c793fb51\",\"submitted\":1,\"correct\":true},{\"checked\":false,\"id\":\"c3e76204-878f-4afb-85b9-1c0e408dd8e5\"},{\"checked\":false,\"id\":\"1284a320-bf24-4dfe-93d6-078a34731db3\"}],\"user_submitted\":true,\"id\":\"5c34cf19-8cfd-4f56-91c2-0a109dc990b9\",\"user_result\":\"correct\"}],\"attempt\":1,\"id\":\"8ac691f8-8c1a-4033-b2e2-44e165775992\",\"counts\":{\"incomplete\":0,\"submitted\":4,\"incorrect\":0,\"all_correct\":true,\"correct\":4,\"total\":4,\"unanswered\":0}},\"keen_created_at\":\"1516743098.56811\",\"certification\":\"false\",\"keen_id\":\"5a67a9ba0600870001247a04\",\"exam_name\":\"Intermediate Python Programming\"}                                                                                                                                                                                                                                                                                                                                                                                                                                                                                                                                                                                                                                                                                                                                                                                                                                                                                                                                                                                                                                                                                                                                                                                                                                                                                                                                                                                                                                                                                                                                 |\n",
      "|{\"keen_timestamp\":\"1516743764.813107\",\"max_attempts\":\"1.0\",\"started_at\":\"2018-01-23T21:42:37.506Z\",\"base_exam_id\":\"7e2e0b53-a7ba-458d-8bc6-356f8dea8815\",\"user_exam_id\":\"9eb6d4d6-fd1f-4f38-bb50-543d87766909\",\"sequences\":{\"questions\":[{\"user_incomplete\":false,\"user_correct\":false,\"options\":[{\"checked\":false,\"correct\":true,\"id\":\"81f2a8cc-8143-4d84-9d1b-426056f23650\"},{\"checked\":false,\"id\":\"8f70050b-7352-4cfe-94b8-c8ac439618bd\"},{\"checked\":false,\"id\":\"47363862-3455-4975-ad3c-900031d105b0\"}],\"user_submitted\":false,\"id\":\"fc3bdc54-04a8-4b46-976b-43c15bb96e1b\",\"user_result\":\"unanswered\"},{\"user_incomplete\":true,\"user_correct\":false,\"options\":[{\"checked\":false,\"id\":\"03aa3804-4699-45f1-bfc7-a75d068555e2\"},{\"checked\":false,\"correct\":true,\"id\":\"12806e1a-d900-47d6-ac10-aec303c4f032\"},{\"checked\":false,\"id\":\"210263ed-1026-41fe-a1f2-e8884a22a04b\"},{\"checked\":true,\"at\":\"2018-01-23T21:42:42.205Z\",\"id\":\"f398bf48-0a6a-4ae4-a606-06050b23aad6\",\"submitted\":1,\"correct\":true},{\"checked\":true,\"at\":\"2018-01-23T21:42:43.106Z\",\"id\":\"45dea466-e0aa-42e8-8079-8e3a2dfb9891\",\"submitted\":1,\"correct\":true},{\"checked\":false,\"id\":\"91172243-e066-44b0-852c-df7a6476db7f\"}],\"user_submitted\":true,\"id\":\"34eacafb-dd6a-424c-a6b8-287b0e0ce17d\",\"user_result\":\"missed_some\"},{\"user_incomplete\":false,\"user_correct\":false,\"options\":[{\"checked\":false,\"id\":\"4ba0ac68-a7f6-4ff7-ba4f-ed0e2ffc6574\"},{\"checked\":false,\"correct\":true,\"id\":\"d4e7cc0b-a675-44b0-bbbc-244150e09ef5\"},{\"checked\":false,\"id\":\"adc2395d-7bd4-48e3-89c8-40175f7cbb86\"},{\"checked\":false,\"correct\":true,\"id\":\"765bc403-4674-42b5-93ba-252d4b5fae31\"},{\"checked\":false,\"correct\":true,\"id\":\"348e36c7-4ba1-43a0-bff0-2a9cd15a6319\"},{\"checked\":false,\"id\":\"6549d29c-1f58-44ac-8951-b850a673aa5d\"}],\"user_submitted\":false,\"id\":\"9a1791b2-0015-44d3-90bc-308fe48d0932\",\"user_result\":\"unanswered\"},{\"user_incomplete\":false,\"user_correct\":false,\"options\":[{\"checked\":false,\"id\":\"8f2ecc6d-ce53-47af-9736-c1f996c923a3\"},{\"checked\":false,\"correct\":true,\"id\":\"8ae6e2e1-bc1f-4b66-afc0-13f6622514fe\"},{\"checked\":false,\"id\":\"cf689fa7-4ed6-4eff-b14f-fc72cd318878\"},{\"checked\":false,\"correct\":true,\"id\":\"53109aa4-aa42-4a04-b8bc-e35ee97c3a69\"}],\"user_submitted\":false,\"id\":\"29801002-1cc9-43c2-8456-fbe7811a70ff\",\"user_result\":\"unanswered\"},{\"user_incomplete\":false,\"user_correct\":false,\"options\":[{\"checked\":false,\"id\":\"045427d5-bb0a-4587-bab9-d13761ab16f7\"},{\"checked\":false,\"id\":\"e4012b2e-2da6-409f-af6e-7c06c2f4a22d\"},{\"checked\":false,\"id\":\"77b4aac6-56b9-48fc-aefd-f4f4a893a9b5\"},{\"checked\":false,\"correct\":true,\"id\":\"bc676d81-2ac7-4a11-8b3c-2aa0fbbba0a9\"}],\"user_submitted\":false,\"id\":\"7bdbbf4a-b5d8-4c7c-9833-bb2914188b33\",\"user_result\":\"unanswered\"}],\"attempt\":1,\"id\":\"066b5326-e547-4dab-ad24-ae751f0059d3\",\"counts\":{\"incomplete\":1,\"submitted\":1,\"incorrect\":0,\"all_correct\":false,\"correct\":0,\"total\":5,\"unanswered\":4}},\"keen_created_at\":\"1516743764.813107\",\"certification\":\"false\",\"keen_id\":\"5a67ac54411aed0001da9129\",\"exam_name\":\"Introduction to Python\"}                                                                                                                                                                                                                                                                                                                                                                                                                                                                                                                                                                                                                                                                                                                                                                                                                                                                                                                                                                                                     |\n",
      "|{\"keen_timestamp\":\"1516744091.3127241\",\"max_attempts\":\"1.0\",\"started_at\":\"2018-01-23T21:45:26.357Z\",\"base_exam_id\":\"4cdf9b5f-fdb7-4a4f-aaf3-51ec08dedecb\",\"user_exam_id\":\"093f1337-7090-457a-b894-11860df9d218\",\"sequences\":{\"questions\":[{\"user_incomplete\":true,\"user_correct\":false,\"options\":[{\"checked\":false,\"id\":\"93e34113-9715-4860-bbfe-54b211579dae\"},{\"checked\":true,\"at\":\"2018-01-23T21:46:19.889Z\",\"id\":\"170c51c6-796c-402d-831d-5c7c5fd21332\",\"submitted\":1,\"correct\":true},{\"checked\":false,\"correct\":true,\"id\":\"c953b6fb-71c5-4dde-a873-8a3b4a02bf3e\"},{\"checked\":false,\"id\":\"cf60e3c9-4548-4c79-abd1-270b3b498604\"},{\"checked\":false,\"id\":\"3ff7a9c6-34e2-4989-9650-8344e3048ad5\"},{\"checked\":false,\"id\":\"fe1468a0-6c1a-489f-bb58-4108334938e0\"}],\"user_submitted\":true,\"id\":\"a6effaf7-94ba-4586-aaa4-5c15eecb1ece\",\"user_result\":\"missed_some\"},{\"user_incomplete\":false,\"user_correct\":true,\"options\":[{\"checked\":false,\"id\":\"1873862e-bead-4b38-b627-564a79d1143e\"},{\"checked\":false,\"id\":\"276d056a-601a-47d7-8f69-ae472ffb5e68\"},{\"checked\":true,\"at\":\"2018-01-23T21:46:51.247Z\",\"id\":\"67621575-7f30-44cb-a23d-ba3f945ff70b\",\"submitted\":1,\"correct\":true},{\"checked\":false,\"id\":\"14424a24-5dcb-4b6a-9673-79240a4c73cf\"}],\"user_submitted\":true,\"id\":\"80aad87e-c7b2-4e11-8687-c284c0234e0e\",\"user_result\":\"correct\"},{\"user_incomplete\":false,\"user_correct\":true,\"options\":[{\"checked\":false,\"id\":\"846505ef-ffb4-421d-9c3a-8873a603ec85\"},{\"checked\":false,\"id\":\"3df9b796-c9dd-4d34-a8b3-d8db29e8f0ab\"},{\"checked\":true,\"at\":\"2018-01-23T21:47:08.402Z\",\"id\":\"3388844e-618e-492a-89ba-e3e193590e9f\",\"submitted\":1,\"correct\":true}],\"user_submitted\":true,\"id\":\"7ff41d87-1f73-4068-9889-c4f82cd935b4\",\"user_result\":\"correct\"},{\"user_incomplete\":false,\"user_correct\":true,\"options\":[{\"checked\":false,\"id\":\"65a91a7e-3b78-4dc9-82ac-4a078ab31f47\"},{\"checked\":false,\"id\":\"82362c91-caef-4054-9e67-cf5c80be9ac9\"},{\"checked\":false,\"id\":\"e76c23f0-ecce-44e4-a0df-5b677def4d48\"},{\"checked\":true,\"at\":\"2018-01-23T21:48:10.191Z\",\"id\":\"35a46edc-caea-4b6d-b9aa-0ddec75651e7\",\"submitted\":1,\"correct\":true}],\"user_submitted\":true,\"id\":\"dab47905-63c6-46bc-97cb-99b7f3eb5877\",\"user_result\":\"correct\"}],\"attempt\":1,\"id\":\"083844c5-772f-48df-9a41-8cffd27dcae0\",\"counts\":{\"incomplete\":1,\"submitted\":4,\"incorrect\":0,\"all_correct\":false,\"correct\":3,\"total\":4,\"unanswered\":0}},\"keen_created_at\":\"1516744091.3127241\",\"certification\":\"false\",\"keen_id\":\"5a67ad9b2ff31200017b6c58\",\"exam_name\":\"A Practical Introduction to React.js\"}                                                                                                                                                                                                                                                                                                                                                                                                                                                                                                                                                                                                                                                                                                                                                                                                                                                                                                                                                                                                                                                                                                                                                                                                                                                                                                                                                                                                                                                                                                                                  |\n",
      "|{\"keen_timestamp\":\"1516746256.5878439\",\"max_attempts\":\"1.0\",\"started_at\":\"2018-01-23T22:24:00.897Z\",\"base_exam_id\":\"e1f07fac-5566-4fdd-95e0-b6aa06fd5b50\",\"user_exam_id\":\"0f576abb-958a-4c08-a400-78daefa96dab\",\"sequences\":{\"questions\":[{\"user_incomplete\":false,\"user_correct\":true,\"options\":[{\"checked\":false,\"id\":\"9e54b46b-779c-40e6-9fbd-6c2dd801f377\"},{\"checked\":true,\"at\":\"2018-01-23T22:30:35.546Z\",\"id\":\"f17535b9-46bb-400a-a769-c5d2d5fff6cf\",\"submitted\":1,\"correct\":true},{\"checked\":false,\"id\":\"f35165f9-4ceb-4b6f-b1aa-830fb3d861f9\"},{\"checked\":false,\"id\":\"d7caa749-8568-46a6-9dae-0730e5520664\"}],\"user_submitted\":true,\"id\":\"247b4589-7f8c-4a46-905c-63e0fa4731af\",\"user_result\":\"correct\"}],\"attempt\":1,\"id\":\"5251db24-2a6e-4247-ab89-c277fb255405\",\"counts\":{\"incomplete\":0,\"submitted\":1,\"incorrect\":0,\"all_correct\":true,\"correct\":1,\"total\":1,\"unanswered\":0}},\"keen_created_at\":\"1516746256.5878439\",\"certification\":\"false\",\"keen_id\":\"5a67b610baff9000015bc9f6\",\"exam_name\":\"Git Fundamentals for Web Developers\"}                                                                                                                                                                                                                                                                                                                                                                                                                                                                                                                                                                                                                                                                                                                                                                                                                                                                                                                                                                                                                                                                                                                                                                                                                                                                                                                                                                                                                                                                                                                                                                                                                                                                                                                                                                                                                                                                                                                                                                                                                                                                                                                                                                                                                                                                                                                                                                                                                                                                                                                                                                                                                                                                                                                                                                                                                                                                                                                                                                                                                                             |\n",
      "|{\"keen_timestamp\":\"1516743832.99235\",\"max_attempts\":\"1.0\",\"started_at\":\"2018-01-23T21:40:19.427Z\",\"base_exam_id\":\"87b4b3f9-3a86-435e-8360-25379c6978ca\",\"user_exam_id\":\"0c18f48c-0018-4508-a2ae-93cbb49f7dcb\",\"sequences\":{\"questions\":[{\"user_incomplete\":false,\"user_correct\":true,\"options\":[{\"checked\":true,\"at\":\"2018-01-23T21:41:17.641Z\",\"id\":\"937c6989-488d-4fad-8bea-e2044daa0b17\",\"submitted\":1,\"correct\":true},{\"checked\":true,\"at\":\"2018-01-23T21:41:18.167Z\",\"id\":\"4fafc015-0785-42a8-9a7c-d53580a196e0\",\"submitted\":1,\"correct\":true},{\"checked\":false,\"at\":\"2018-01-23T21:41:22.759Z\",\"id\":\"bf54f4d0-3d7e-4c9a-b220-2107ebd652b4\"},{\"checked\":true,\"at\":\"2018-01-23T21:41:19.826Z\",\"id\":\"48490af6-be4f-4591-8247-f063647f26d7\",\"submitted\":1,\"correct\":true}],\"user_submitted\":true,\"id\":\"0d12c14d-1abe-4b74-bb2c-c05148cf2741\",\"user_result\":\"correct\"},{\"user_incomplete\":false,\"user_correct\":true,\"options\":[{\"checked\":false,\"id\":\"e2af1ca6-8d84-477e-97a7-8ab0268036b2\"},{\"checked\":false,\"id\":\"58fdc4e7-64f2-4725-95e3-6a1ea3dae20e\"},{\"checked\":true,\"at\":\"2018-01-23T21:41:49.226Z\",\"id\":\"95f1bbed-ac13-4c29-932c-29d039cbea91\",\"submitted\":1,\"correct\":true}],\"user_submitted\":true,\"id\":\"d56f4e80-e622-46b3-9735-028817a31b69\",\"user_result\":\"correct\"},{\"user_incomplete\":false,\"user_correct\":true,\"options\":[{\"checked\":true,\"at\":\"2018-01-23T21:42:58.315Z\",\"id\":\"f1ea98cd-8b16-4a72-a8d3-22fbe624c7a9\",\"submitted\":1,\"correct\":true},{\"checked\":true,\"at\":\"2018-01-23T21:42:59.098Z\",\"id\":\"dd17b18f-e555-406d-b864-a83745b8d054\",\"submitted\":1,\"correct\":true},{\"checked\":false,\"id\":\"90c4972e-7d6a-46ab-a757-0921ae7fbb66\"},{\"checked\":true,\"at\":\"2018-01-23T21:43:01.395Z\",\"id\":\"1e341f7d-8ec8-42b1-83b3-2a41533a32cb\",\"submitted\":1,\"correct\":true},{\"checked\":true,\"at\":\"2018-01-23T21:43:02.393Z\",\"id\":\"e01e5fc1-0a73-4c41-b2f1-509f6458ac7e\",\"submitted\":1,\"correct\":true},{\"checked\":true,\"at\":\"2018-01-23T21:43:03.954Z\",\"id\":\"2b9a95d9-f092-4bd6-ba34-00e2ca0c7f60\",\"submitted\":1,\"correct\":true}],\"user_submitted\":true,\"id\":\"3d96109e-3b22-44c5-82bd-660f7f8cc765\",\"user_result\":\"correct\"},{\"user_incomplete\":true,\"user_correct\":false,\"options\":[{\"checked\":false,\"correct\":true,\"id\":\"f114f01d-418d-4c5f-b7da-c7167a7ef536\"},{\"checked\":true,\"at\":\"2018-01-23T21:43:16.507Z\",\"id\":\"06e2a510-19b9-4acd-8fd7-5fdd971e4fbf\",\"submitted\":1,\"correct\":true},{\"checked\":true,\"at\":\"2018-01-23T21:43:14.518Z\",\"id\":\"184c40d6-9094-45a1-9c82-03e09d1895cb\",\"submitted\":1,\"correct\":true},{\"checked\":false,\"id\":\"a63914eb-424e-44ea-8103-5fc3a48fbc68\"}],\"user_submitted\":true,\"id\":\"a08c9a75-9326-4afb-9f21-cd95eb2d31dd\",\"user_result\":\"missed_some\"},{\"user_incomplete\":false,\"user_correct\":true,\"options\":[{\"checked\":true,\"at\":\"2018-01-23T21:43:30.661Z\",\"id\":\"53af3418-eba2-41d7-aaa2-ef17fbb6dc79\",\"submitted\":1,\"correct\":true},{\"checked\":true,\"at\":\"2018-01-23T21:43:33.903Z\",\"id\":\"a43840fc-9d6c-4485-b247-652891203a5f\",\"submitted\":1,\"correct\":true},{\"checked\":false,\"id\":\"8c73b84b-4760-4528-b334-bfcfece2c13b\"}],\"user_submitted\":true,\"id\":\"49b89258-eaa5-46e8-ae8f-b8ae68e16c35\",\"user_result\":\"correct\"},{\"user_incomplete\":false,\"user_correct\":false,\"options\":[{\"checked\":false,\"id\":\"e9ec4e94-e998-442a-96c2-c77094ab2d7b\"},{\"checked\":true,\"at\":\"2018-01-23T21:43:48.362Z\",\"id\":\"c5120cd3-8128-4589-8142-8286cfffd827\",\"submitted\":1},{\"checked\":true,\"at\":\"2018-01-23T21:43:49.306Z\",\"id\":\"6f6f0e8b-d5a8-43fa-9d0f-3eca939499f6\",\"submitted\":1,\"correct\":true},{\"checked\":true,\"at\":\"2018-01-23T21:43:51.049Z\",\"id\":\"7eeac618-e5a1-4d41-a078-0ade911386e5\",\"submitted\":1,\"correct\":true}],\"user_submitted\":true,\"id\":\"99dfeb33-162a-412a-a43d-d9bf1e545328\",\"user_result\":\"incorrect\"}],\"attempt\":1,\"id\":\"b68128a9-6b50-41f3-856b-a846620855da\",\"counts\":{\"incomplete\":1,\"submitted\":6,\"incorrect\":1,\"all_correct\":false,\"correct\":4,\"total\":6,\"unanswered\":0}},\"keen_created_at\":\"1516743832.99235\",\"certification\":\"false\",\"keen_id\":\"5a67ac9837b82b0001ea6011\",\"exam_name\":\"Introduction to Modern Front-End Development\"}|\n",
      "|{\"keen_timestamp\":\"1516743332.7596769\",\"max_attempts\":\"1.0\",\"started_at\":\"2018-01-23T21:34:37.227Z\",\"base_exam_id\":\"a7a65ec6-77dc-480d-9926-dd0012677829\",\"user_exam_id\":\"b38ac9d8-eef9-495c-9429-6eaf2d6b3824\",\"sequences\":{\"questions\":[{\"user_incomplete\":false,\"user_correct\":true,\"options\":[{\"checked\":true,\"at\":\"2018-01-23T21:34:44.938Z\",\"id\":\"fdc1f0f6-9d54-451f-8a6b-7a956ec13590\",\"submitted\":1,\"correct\":true},{\"checked\":false,\"at\":\"2018-01-23T21:34:44.111Z\",\"id\":\"18a9d7bc-d65d-49b5-9419-28cec060bc7d\"},{\"checked\":false,\"at\":\"2018-01-23T21:34:43.111Z\",\"id\":\"ab560a01-6d6b-4c7b-82bb-fd2a241d4f00\"}],\"user_submitted\":true,\"id\":\"26ddad33-aa1d-49e7-96ae-a0278eef6a43\",\"user_result\":\"correct\"},{\"user_incomplete\":false,\"user_correct\":true,\"options\":[{\"checked\":false,\"at\":\"2018-01-23T21:34:48.754Z\",\"id\":\"59f0c577-b762-48b0-8935-3e6faf268233\"},{\"checked\":false,\"id\":\"87221a55-12e8-41b3-973c-1f5ac9f8ac8a\"},{\"checked\":true,\"at\":\"2018-01-23T21:34:49.703Z\",\"id\":\"1e928188-c9f6-4da2-a119-ddb76586e278\",\"submitted\":1,\"correct\":true}],\"user_submitted\":true,\"id\":\"861c3405-83fc-42f0-b368-6e852c2414ba\",\"user_result\":\"correct\"},{\"user_incomplete\":false,\"user_correct\":false,\"options\":[{\"checked\":true,\"at\":\"2018-01-23T21:34:53.436Z\",\"id\":\"875fb2fd-087a-4e28-be56-efc4a4cb898e\",\"submitted\":1},{\"checked\":false,\"id\":\"ddcda085-c5a1-4f16-a6c2-c1f431d21753\"},{\"checked\":false,\"correct\":true,\"id\":\"227a51e9-c401-4f58-a78f-c68a938063ff\"}],\"user_submitted\":true,\"id\":\"37759149-6c4d-4635-8955-5e3267486d03\",\"user_result\":\"incorrect\"},{\"user_incomplete\":false,\"user_correct\":false,\"options\":[{\"checked\":false,\"correct\":true,\"id\":\"54c5b379-b238-40af-a0be-1f4ae835ee29\"},{\"checked\":false,\"id\":\"a5402d6d-a756-41f8-a097-d384f24bf955\"},{\"checked\":true,\"at\":\"2018-01-23T21:35:12.456Z\",\"id\":\"6a6f4a56-0eea-4727-a1f0-3b6bad29ca74\",\"submitted\":1}],\"user_submitted\":true,\"id\":\"10ff97da-5358-4f66-9a79-c50103f53d08\",\"user_result\":\"incorrect\"},{\"user_incomplete\":false,\"user_correct\":true,\"options\":[{\"checked\":false,\"id\":\"b387e492-3004-4607-bbee-242f6dbff1e8\"},{\"checked\":true,\"at\":\"2018-01-23T21:35:27.279Z\",\"id\":\"2ce66600-8ded-49cf-b290-219e955fce3b\",\"submitted\":1,\"correct\":true},{\"checked\":false,\"id\":\"75bc9cb6-3b20-445f-ad46-5a63e6f34f9c\"}],\"user_submitted\":true,\"id\":\"1dba1b91-a0ff-4986-9768-25f34a493bf4\",\"user_result\":\"correct\"},{\"user_incomplete\":false,\"user_correct\":true,\"options\":[{\"checked\":false,\"id\":\"14b07ab0-f74d-4b2d-80f7-d977ac8a8aa8\"},{\"checked\":false,\"at\":\"2018-01-23T21:35:29.886Z\",\"id\":\"b0c12c6c-d696-4c4b-b286-5e50622209fc\"},{\"checked\":true,\"at\":\"2018-01-23T21:35:30.998Z\",\"id\":\"bca05889-f2c2-49ec-9298-8939f0c41ecc\",\"submitted\":1,\"correct\":true}],\"user_submitted\":true,\"id\":\"aa7a63cd-7aa4-47fb-8d01-ba2665c80493\",\"user_result\":\"correct\"}],\"attempt\":1,\"id\":\"67457eec-4cad-4162-aa57-66d103ebcdc8\",\"counts\":{\"incomplete\":0,\"submitted\":6,\"incorrect\":2,\"all_correct\":false,\"correct\":4,\"total\":6,\"unanswered\":0}},\"keen_created_at\":\"1516743332.7596769\",\"certification\":\"false\",\"keen_id\":\"5a67aaa4f21cc20001e373c8\",\"exam_name\":\"Python Epiphanies\"}                                                                                                                                                                                                                                                                                                                                                                                                                                                                                                                                                                                                                                                                                                                                                                                                                                                                                                                                    |\n",
      "|{\"keen_timestamp\":\"1516743750.097306\",\"max_attempts\":\"1.0\",\"started_at\":\"2018-01-23T21:41:38.540Z\",\"base_exam_id\":\"7e2e0b53-a7ba-458d-8bc6-356f8dea8815\",\"user_exam_id\":\"bbc9865f-88ef-42ed-b580-e6139cee0995\",\"sequences\":{\"questions\":[{\"user_incomplete\":false,\"user_correct\":true,\"options\":[{\"checked\":false,\"id\":\"045427d5-bb0a-4587-bab9-d13761ab16f7\"},{\"checked\":false,\"id\":\"77b4aac6-56b9-48fc-aefd-f4f4a893a9b5\"},{\"checked\":false,\"id\":\"e4012b2e-2da6-409f-af6e-7c06c2f4a22d\"},{\"checked\":true,\"at\":\"2018-01-23T21:41:54.836Z\",\"id\":\"bc676d81-2ac7-4a11-8b3c-2aa0fbbba0a9\",\"submitted\":1,\"correct\":true}],\"user_submitted\":true,\"id\":\"7bdbbf4a-b5d8-4c7c-9833-bb2914188b33\",\"user_result\":\"correct\"},{\"user_incomplete\":false,\"user_correct\":true,\"options\":[{\"checked\":true,\"at\":\"2018-01-23T21:41:58.592Z\",\"id\":\"8ae6e2e1-bc1f-4b66-afc0-13f6622514fe\",\"submitted\":1,\"correct\":true},{\"checked\":false,\"id\":\"cf689fa7-4ed6-4eff-b14f-fc72cd318878\"},{\"checked\":false,\"id\":\"8f2ecc6d-ce53-47af-9736-c1f996c923a3\"},{\"checked\":true,\"at\":\"2018-01-23T21:42:00.595Z\",\"id\":\"53109aa4-aa42-4a04-b8bc-e35ee97c3a69\",\"submitted\":1,\"correct\":true}],\"user_submitted\":true,\"id\":\"29801002-1cc9-43c2-8456-fbe7811a70ff\",\"user_result\":\"correct\"},{\"user_incomplete\":false,\"user_correct\":true,\"options\":[{\"checked\":false,\"at\":\"2018-01-23T21:42:06.383Z\",\"id\":\"8f70050b-7352-4cfe-94b8-c8ac439618bd\"},{\"checked\":true,\"at\":\"2018-01-23T21:42:07.045Z\",\"id\":\"81f2a8cc-8143-4d84-9d1b-426056f23650\",\"submitted\":1,\"correct\":true},{\"checked\":false,\"id\":\"47363862-3455-4975-ad3c-900031d105b0\"}],\"user_submitted\":true,\"id\":\"fc3bdc54-04a8-4b46-976b-43c15bb96e1b\",\"user_result\":\"correct\"},{\"user_incomplete\":false,\"user_correct\":true,\"options\":[{\"checked\":false,\"id\":\"4ba0ac68-a7f6-4ff7-ba4f-ed0e2ffc6574\"},{\"checked\":true,\"at\":\"2018-01-23T21:42:17.221Z\",\"id\":\"d4e7cc0b-a675-44b0-bbbc-244150e09ef5\",\"submitted\":1,\"correct\":true},{\"checked\":true,\"at\":\"2018-01-23T21:42:18.444Z\",\"id\":\"348e36c7-4ba1-43a0-bff0-2a9cd15a6319\",\"submitted\":1,\"correct\":true},{\"checked\":false,\"id\":\"6549d29c-1f58-44ac-8951-b850a673aa5d\"},{\"checked\":false,\"id\":\"adc2395d-7bd4-48e3-89c8-40175f7cbb86\"},{\"checked\":true,\"at\":\"2018-01-23T21:42:21.263Z\",\"id\":\"765bc403-4674-42b5-93ba-252d4b5fae31\",\"submitted\":1,\"correct\":true}],\"user_submitted\":true,\"id\":\"9a1791b2-0015-44d3-90bc-308fe48d0932\",\"user_result\":\"correct\"},{\"user_incomplete\":true,\"user_correct\":false,\"options\":[{\"checked\":false,\"id\":\"91172243-e066-44b0-852c-df7a6476db7f\"},{\"checked\":false,\"correct\":true,\"id\":\"12806e1a-d900-47d6-ac10-aec303c4f032\"},{\"checked\":false,\"correct\":true,\"id\":\"f398bf48-0a6a-4ae4-a606-06050b23aad6\"},{\"checked\":false,\"id\":\"03aa3804-4699-45f1-bfc7-a75d068555e2\"},{\"checked\":false,\"id\":\"210263ed-1026-41fe-a1f2-e8884a22a04b\"},{\"checked\":true,\"at\":\"2018-01-23T21:42:29.098Z\",\"id\":\"45dea466-e0aa-42e8-8079-8e3a2dfb9891\",\"submitted\":1,\"correct\":true}],\"user_submitted\":true,\"id\":\"34eacafb-dd6a-424c-a6b8-287b0e0ce17d\",\"user_result\":\"missed_some\"}],\"attempt\":1,\"id\":\"066b5326-e547-4dab-ad24-ae751f0059d3\",\"counts\":{\"incomplete\":1,\"submitted\":5,\"incorrect\":0,\"all_correct\":false,\"correct\":4,\"total\":5,\"unanswered\":0}},\"keen_created_at\":\"1516743750.097306\",\"certification\":\"false\",\"keen_id\":\"5a67ac46f7bce80001ad43e3\",\"exam_name\":\"Introduction to Python\"}                                                                                                                                                                                                                                                                                                                                                                                                                                                                                                                                                                                                                                                                                                           |\n",
      "|{\"keen_timestamp\":\"1516744410.4791961\",\"max_attempts\":\"1.0\",\"started_at\":\"2018-01-23T21:51:29.006Z\",\"base_exam_id\":\"e5602ceb-6f0d-11e6-8aff-9801a7c3b233\",\"user_exam_id\":\"8a0266df-02d7-44e9-8fc7-cb6c46ff7359\",\"sequences\":{\"questions\":[{\"user_incomplete\":false,\"user_correct\":true,\"options\":[{\"checked\":false,\"id\":\"cd5c5ed1-b1d0-4ea6-9769-4b85fafefb06\"},{\"checked\":false,\"id\":\"ce49cc29-3f5a-43d9-92df-25d1cb5902e9\"},{\"checked\":true,\"at\":\"2018-01-23T21:51:40.023Z\",\"id\":\"4f7328cc-f7f1-4992-97c5-f9a91b64d088\",\"submitted\":1,\"correct\":true},{\"checked\":false,\"id\":\"6cb41438-6462-45be-a1fb-d5b44c58cf8a\"}],\"user_submitted\":true,\"id\":\"d2ac7f0d-82bd-415e-90ad-627d97481973\",\"user_result\":\"correct\"},{\"user_incomplete\":false,\"user_correct\":false,\"options\":[{\"checked\":false,\"correct\":true,\"id\":\"7c7a9fd3-e50b-4cf6-9931-a99543dc9a37\"},{\"checked\":false,\"at\":\"2018-01-23T21:51:51.871Z\",\"id\":\"f2b1303c-4ce8-4774-9fba-2203759c4d61\"},{\"checked\":true,\"at\":\"2018-01-23T21:51:52.499Z\",\"id\":\"4e08f5b1-683b-4e05-8f69-d66f27be2ae7\",\"submitted\":1}],\"user_submitted\":true,\"id\":\"9d29ed8a-c4c0-4875-b126-a79cffc4abf9\",\"user_result\":\"incorrect\"},{\"user_incomplete\":false,\"user_correct\":true,\"options\":[{\"checked\":true,\"at\":\"2018-01-23T21:52:39.142Z\",\"id\":\"887fd805-1a86-439a-9caf-c8cb27545517\",\"submitted\":1,\"correct\":true},{\"checked\":false,\"id\":\"e10007ad-84fb-487a-8732-ee8fe45f456b\"},{\"checked\":false,\"at\":\"2018-01-23T21:52:14.694Z\",\"id\":\"56efaa0c-6391-4f40-b357-b7af47ac7ce1\"},{\"checked\":false,\"id\":\"416bba46-14d3-477b-a2e2-d462543d4946\"}],\"user_submitted\":true,\"id\":\"080c6d0e-933f-4765-b2d4-6e553669bc3b\",\"user_result\":\"correct\"},{\"user_incomplete\":false,\"user_correct\":true,\"options\":[{\"checked\":false,\"id\":\"8338617e-730c-497c-99a4-ae1556388ab3\"},{\"checked\":false,\"id\":\"b5960f83-ae3b-48f0-ab93-d262498f3c83\"},{\"checked\":true,\"at\":\"2018-01-23T21:53:29.275Z\",\"id\":\"9d8ee72d-0a62-4c89-bc86-16a0c4aed907\",\"submitted\":1,\"correct\":true}],\"user_submitted\":true,\"id\":\"59d444b5-49fd-4870-ba99-ab5a4ded9096\",\"user_result\":\"correct\"}],\"attempt\":1,\"id\":\"7b754bca-91a1-4aac-980a-a7fb46dddc09\",\"counts\":{\"incomplete\":0,\"submitted\":4,\"incorrect\":1,\"all_correct\":false,\"correct\":3,\"total\":4,\"unanswered\":0}},\"keen_created_at\":\"1516744410.4791961\",\"certification\":\"false\",\"keen_id\":\"5a67aedaf34e850001061eeb\",\"exam_name\":\"Python Data Structures\"}                                                                                                                                                                                                                                                                                                                                                                                                                                                                                                                                                                                                                                                                                                                                                                                                                                                                                                                                                                                                                                                                                                                                                                                                                                                                                                                                                                                                                                                                                                                                                                                                                                                                                          |\n",
      "|{\"keen_timestamp\":\"1516744446.3999851\",\"max_attempts\":\"1.0\",\"started_at\":\"2018-01-23T21:53:54.316Z\",\"base_exam_id\":\"e5602ceb-6f0d-11e6-8aff-9801a7c3b233\",\"user_exam_id\":\"95d4edb1-533f-4455-b750-3206210736e4\",\"sequences\":{\"questions\":[{\"user_incomplete\":false,\"user_correct\":true,\"options\":[{\"checked\":false,\"id\":\"b5960f83-ae3b-48f0-ab93-d262498f3c83\"},{\"checked\":false,\"id\":\"8338617e-730c-497c-99a4-ae1556388ab3\"},{\"checked\":true,\"at\":\"2018-01-23T21:53:58.336Z\",\"id\":\"9d8ee72d-0a62-4c89-bc86-16a0c4aed907\",\"submitted\":1,\"correct\":true}],\"user_submitted\":true,\"id\":\"59d444b5-49fd-4870-ba99-ab5a4ded9096\",\"user_result\":\"correct\"},{\"user_incomplete\":false,\"user_correct\":false,\"options\":[{\"checked\":false,\"id\":\"56efaa0c-6391-4f40-b357-b7af47ac7ce1\"},{\"checked\":false,\"correct\":true,\"id\":\"887fd805-1a86-439a-9caf-c8cb27545517\"},{\"checked\":false,\"id\":\"416bba46-14d3-477b-a2e2-d462543d4946\"},{\"checked\":false,\"id\":\"e10007ad-84fb-487a-8732-ee8fe45f456b\"}],\"user_submitted\":false,\"id\":\"080c6d0e-933f-4765-b2d4-6e553669bc3b\",\"user_result\":\"unanswered\"},{\"user_incomplete\":false,\"user_correct\":true,\"options\":[{\"checked\":false,\"id\":\"f2b1303c-4ce8-4774-9fba-2203759c4d61\"},{\"checked\":false,\"id\":\"4e08f5b1-683b-4e05-8f69-d66f27be2ae7\"},{\"checked\":true,\"at\":\"2018-01-23T21:54:01.338Z\",\"id\":\"7c7a9fd3-e50b-4cf6-9931-a99543dc9a37\",\"submitted\":1,\"correct\":true}],\"user_submitted\":true,\"id\":\"9d29ed8a-c4c0-4875-b126-a79cffc4abf9\",\"user_result\":\"correct\"},{\"user_incomplete\":false,\"user_correct\":true,\"options\":[{\"checked\":true,\"at\":\"2018-01-23T21:54:05.449Z\",\"id\":\"4f7328cc-f7f1-4992-97c5-f9a91b64d088\",\"submitted\":1,\"correct\":true},{\"checked\":false,\"id\":\"cd5c5ed1-b1d0-4ea6-9769-4b85fafefb06\"},{\"checked\":false,\"id\":\"6cb41438-6462-45be-a1fb-d5b44c58cf8a\"},{\"checked\":false,\"id\":\"ce49cc29-3f5a-43d9-92df-25d1cb5902e9\"}],\"user_submitted\":true,\"id\":\"d2ac7f0d-82bd-415e-90ad-627d97481973\",\"user_result\":\"correct\"}],\"attempt\":1,\"id\":\"7b754bca-91a1-4aac-980a-a7fb46dddc09\",\"counts\":{\"incomplete\":0,\"submitted\":3,\"incorrect\":0,\"all_correct\":false,\"correct\":3,\"total\":4,\"unanswered\":1}},\"keen_created_at\":\"1516744446.3999851\",\"certification\":\"false\",\"keen_id\":\"5a67aefef5e1490001222a7e\",\"exam_name\":\"Python Data Structures\"}                                                                                                                                                                                                                                                                                                                                                                                                                                                                                                                                                                                                                                                                                                                                                                                                                                                                                                                                                                                                                                                                                                                                                                                                                                                                                                                                                                                                                                                                                                                                                                                                                                                                                                                                                                                                     |\n",
      "|{\"keen_timestamp\":\"1516744255.840405\",\"max_attempts\":\"1.0\",\"started_at\":\"2018-01-23T21:50:29.723Z\",\"base_exam_id\":\"f432e2e3-7e3a-4a78-b408-49cab5d1fbeb\",\"user_exam_id\":\"f9bc1eff-7e54-42ae-90cb-d3607bbeb4b5\",\"sequences\":{\"questions\":[{\"user_incomplete\":false,\"user_correct\":true,\"options\":[{\"checked\":false,\"id\":\"0c841189-04b5-4ecc-bb84-552081550978\"},{\"checked\":true,\"at\":\"2018-01-23T21:50:54.398Z\",\"id\":\"8e961bb2-5f20-435f-bdf1-4576b971524d\",\"submitted\":1,\"correct\":true},{\"checked\":false,\"id\":\"b605e286-d3bb-4c51-9eee-1ec998385934\"},{\"checked\":false,\"id\":\"0408bf23-5498-44bb-b500-eb5a1111a300\"}],\"user_submitted\":true,\"id\":\"e272a3d1-bd67-4d26-9706-88a1cca4a21c\",\"user_result\":\"correct\"},{\"user_incomplete\":false,\"user_correct\":true,\"options\":[{\"checked\":true,\"at\":\"2018-01-23T21:50:48.219Z\",\"id\":\"5fc62c0a-fcf2-4778-a253-596f72885853\",\"submitted\":1,\"correct\":true},{\"checked\":false,\"at\":\"2018-01-23T21:50:47.313Z\",\"id\":\"f04c10c3-ae5c-466a-94a8-2efa7922d4ee\"},{\"checked\":false,\"id\":\"182ab925-a717-45b2-819d-32a7c3ac8dca\"},{\"checked\":false,\"id\":\"f7775d1d-3ecf-49ca-b124-ada056003c68\"}],\"user_submitted\":true,\"id\":\"f289b342-2871-4ab0-b125-ac443b126f80\",\"user_result\":\"correct\"},{\"user_incomplete\":false,\"user_correct\":true,\"options\":[{\"checked\":false,\"id\":\"7945c474-7481-455c-ae31-4a7578515da7\"},{\"checked\":true,\"at\":\"2018-01-23T21:50:39.042Z\",\"id\":\"18edac87-798b-43ac-a978-3eeccd6dc4bc\",\"submitted\":1,\"correct\":true},{\"checked\":true,\"at\":\"2018-01-23T21:50:40.380Z\",\"id\":\"7cb0eabb-7bcd-4b8c-9e1d-8fe69537a8c7\",\"submitted\":1,\"correct\":true},{\"checked\":false,\"id\":\"9337fdca-929c-41df-9cca-f842d9482600\"}],\"user_submitted\":true,\"id\":\"449b1aab-811e-48b4-9ec7-e0717ca4e46c\",\"user_result\":\"correct\"},{\"user_incomplete\":false,\"user_correct\":true,\"options\":[{\"checked\":true,\"at\":\"2018-01-23T21:50:35.632Z\",\"id\":\"8ed148a2-2c2e-4644-ad84-2468e18ff3ab\",\"submitted\":1,\"correct\":true},{\"checked\":false,\"id\":\"d46322d0-632d-4992-a672-c3b9580e4bed\"},{\"checked\":false,\"id\":\"16722f9c-3056-4a8f-ac73-02ecd0c93221\"},{\"checked\":false,\"id\":\"b019d1d7-3fea-4ef9-8c0c-3e55226dd091\"}],\"user_submitted\":true,\"id\":\"846b2e19-396c-4279-b90c-b97a1bc29886\",\"user_result\":\"correct\"}],\"attempt\":1,\"id\":\"42a1e4c5-7a08-469f-a551-fe1a82943241\",\"counts\":{\"incomplete\":0,\"submitted\":4,\"incorrect\":0,\"all_correct\":true,\"correct\":4,\"total\":4,\"unanswered\":0}},\"keen_created_at\":\"1516744255.840405\",\"certification\":\"false\",\"keen_id\":\"5a67ae3f0c5f48000158e3d2\",\"exam_name\":\"Working with Algorithms in Python\"}                                                                                                                                                                                                                                                                                                                                                                                                                                                                                                                                                                                                                                                                                                                                                                                                                                                                                                                                                                                                                                                                                                                                                                                                                                                                                                                                                                                                                                                                                                                             |\n",
      "|{\"keen_timestamp\":\"1516744023.652257\",\"max_attempts\":\"1.0\",\"started_at\":\"2018-01-23T21:46:53.829Z\",\"base_exam_id\":\"76a682de-6f0c-11e6-b36d-9801a7c3b233\",\"user_exam_id\":\"dc4b35a7-399a-4bd2-a455-a8576d4e0502\",\"sequences\":{\"questions\":[{\"user_incomplete\":false,\"user_correct\":false,\"options\":[{\"checked\":false,\"id\":\"26a7fe89-21f3-4103-87f7-ac8247dac0ee\"},{\"checked\":false,\"correct\":true,\"id\":\"1b99a38e-b0ff-47ef-8b6b-29264b8786c6\"},{\"checked\":false,\"id\":\"0b5aa35b-d8fc-46b0-936d-c3c3a7367854\"},{\"checked\":false,\"id\":\"0c7622fb-6c21-4d95-b8dd-81350fd45c84\"}],\"user_submitted\":false,\"id\":\"dee14932-a24e-4aa7-ab1a-0e6b4bdd02d0\",\"user_result\":\"unanswered\"},{\"user_incomplete\":false,\"user_correct\":true,\"options\":[{\"checked\":false,\"id\":\"1a3bbb8d-c7c6-468b-b34d-97ef24055dbe\"},{\"checked\":true,\"at\":\"2018-01-23T21:46:57.782Z\",\"id\":\"c74b2202-b156-45ff-a5a5-25860eb83d1b\",\"submitted\":1,\"correct\":true},{\"checked\":false,\"id\":\"520d541f-666c-459c-bac0-9b7cedf5cb6f\"}],\"user_submitted\":true,\"id\":\"84a257ed-7431-4942-9bbf-ec187e51e5fb\",\"user_result\":\"correct\"},{\"user_incomplete\":false,\"user_correct\":false,\"options\":[{\"checked\":false,\"correct\":true,\"id\":\"db0bc20d-fdb3-4087-a6c1-c0c5c0544b27\"},{\"checked\":false,\"correct\":true,\"id\":\"29220387-3700-4b0b-89d0-62f57b46bfe2\"},{\"checked\":false,\"correct\":true,\"id\":\"a0fd4321-e241-4a05-b096-74e86e71d898\"}],\"user_submitted\":false,\"id\":\"9fbac809-7c18-4870-8f15-f07751b04047\",\"user_result\":\"unanswered\"},{\"user_incomplete\":false,\"user_correct\":true,\"options\":[{\"checked\":false,\"id\":\"5c86a7cd-ccd2-4439-934e-7406419337d7\"},{\"checked\":false,\"at\":\"2018-01-23T21:47:01.983Z\",\"id\":\"ab51a771-6876-4f1c-b562-ac3175fcf389\"},{\"checked\":true,\"at\":\"2018-01-23T21:47:02.402Z\",\"id\":\"1f21d261-1095-43aa-86e0-d4668f9c7948\",\"submitted\":1,\"correct\":true}],\"user_submitted\":true,\"id\":\"917b9413-f83b-4f23-99fc-1f87ac6c3f76\",\"user_result\":\"correct\"}],\"attempt\":1,\"id\":\"d51a016b-0122-4520-9474-b6d0869d2250\",\"counts\":{\"incomplete\":0,\"submitted\":2,\"incorrect\":0,\"all_correct\":false,\"correct\":2,\"total\":4,\"unanswered\":2}},\"keen_created_at\":\"1516744023.652257\",\"certification\":\"false\",\"keen_id\":\"5a67ad579d50570001d5e379\",\"exam_name\":\"Learning iPython Notebook\"}                                                                                                                                                                                                                                                                                                                                                                                                                                                                                                                                                                                                                                                                                                                                                                                                                                                                                                                                                                                                                                                                                                                                                                                                                                                                                                                                                                                                                                                                                                                                                                                                                                                                                                                                                                                                                                            |\n",
      "|{\"keen_timestamp\":\"1516743398.6451161\",\"max_attempts\":\"1.0\",\"started_at\":\"2018-01-23T21:35:55.542Z\",\"base_exam_id\":\"a7a65ec6-77dc-480d-9926-dd0012677829\",\"user_exam_id\":\"d0f8249a-597e-4e1b-9df1-b0ab00ad781d\",\"sequences\":{\"questions\":[{\"user_incomplete\":false,\"user_correct\":true,\"options\":[{\"checked\":false,\"id\":\"59f0c577-b762-48b0-8935-3e6faf268233\"},{\"checked\":true,\"at\":\"2018-01-23T21:35:59.052Z\",\"id\":\"1e928188-c9f6-4da2-a119-ddb76586e278\",\"submitted\":1,\"correct\":true},{\"checked\":false,\"id\":\"87221a55-12e8-41b3-973c-1f5ac9f8ac8a\"}],\"user_submitted\":true,\"id\":\"861c3405-83fc-42f0-b368-6e852c2414ba\",\"user_result\":\"correct\"},{\"user_incomplete\":false,\"user_correct\":true,\"options\":[{\"checked\":false,\"id\":\"b387e492-3004-4607-bbee-242f6dbff1e8\"},{\"checked\":false,\"id\":\"75bc9cb6-3b20-445f-ad46-5a63e6f34f9c\"},{\"checked\":true,\"at\":\"2018-01-23T21:36:03.582Z\",\"id\":\"2ce66600-8ded-49cf-b290-219e955fce3b\",\"submitted\":1,\"correct\":true}],\"user_submitted\":true,\"id\":\"1dba1b91-a0ff-4986-9768-25f34a493bf4\",\"user_result\":\"correct\"},{\"user_incomplete\":false,\"user_correct\":true,\"options\":[{\"checked\":true,\"at\":\"2018-01-23T21:36:08.442Z\",\"id\":\"54c5b379-b238-40af-a0be-1f4ae835ee29\",\"submitted\":1,\"correct\":true},{\"checked\":false,\"id\":\"6a6f4a56-0eea-4727-a1f0-3b6bad29ca74\"},{\"checked\":false,\"id\":\"a5402d6d-a756-41f8-a097-d384f24bf955\"}],\"user_submitted\":true,\"id\":\"10ff97da-5358-4f66-9a79-c50103f53d08\",\"user_result\":\"correct\"},{\"user_incomplete\":false,\"user_correct\":true,\"options\":[{\"checked\":false,\"at\":\"2018-01-23T21:36:18.911Z\",\"id\":\"ab560a01-6d6b-4c7b-82bb-fd2a241d4f00\"},{\"checked\":false,\"id\":\"18a9d7bc-d65d-49b5-9419-28cec060bc7d\"},{\"checked\":true,\"at\":\"2018-01-23T21:36:20.202Z\",\"id\":\"fdc1f0f6-9d54-451f-8a6b-7a956ec13590\",\"submitted\":1,\"correct\":true}],\"user_submitted\":true,\"id\":\"26ddad33-aa1d-49e7-96ae-a0278eef6a43\",\"user_result\":\"correct\"},{\"user_incomplete\":false,\"user_correct\":true,\"options\":[{\"checked\":true,\"at\":\"2018-01-23T21:36:35.173Z\",\"id\":\"227a51e9-c401-4f58-a78f-c68a938063ff\",\"submitted\":1,\"correct\":true},{\"checked\":false,\"id\":\"ddcda085-c5a1-4f16-a6c2-c1f431d21753\"},{\"checked\":false,\"id\":\"875fb2fd-087a-4e28-be56-efc4a4cb898e\"}],\"user_submitted\":true,\"id\":\"37759149-6c4d-4635-8955-5e3267486d03\",\"user_result\":\"correct\"},{\"user_incomplete\":false,\"user_correct\":true,\"options\":[{\"checked\":false,\"id\":\"b0c12c6c-d696-4c4b-b286-5e50622209fc\"},{\"checked\":true,\"at\":\"2018-01-23T21:36:37.335Z\",\"id\":\"bca05889-f2c2-49ec-9298-8939f0c41ecc\",\"submitted\":1,\"correct\":true},{\"checked\":false,\"id\":\"14b07ab0-f74d-4b2d-80f7-d977ac8a8aa8\"}],\"user_submitted\":true,\"id\":\"aa7a63cd-7aa4-47fb-8d01-ba2665c80493\",\"user_result\":\"correct\"}],\"attempt\":1,\"id\":\"67457eec-4cad-4162-aa57-66d103ebcdc8\",\"counts\":{\"incomplete\":0,\"submitted\":6,\"incorrect\":0,\"all_correct\":true,\"correct\":6,\"total\":6,\"unanswered\":0}},\"keen_created_at\":\"1516743398.6451161\",\"certification\":\"false\",\"keen_id\":\"5a67aae6753fd60001df7224\",\"exam_name\":\"Python Epiphanies\"}                                                                                                                                                                                                                                                                                                                                                                                                                                                                                                                                                                                                                                                                                                                                                                                                                                                                                                                                                                                                                                           |\n",
      "+---------------------------------------------------------------------------------------------------------------------------------------------------------------------------------------------------------------------------------------------------------------------------------------------------------------------------------------------------------------------------------------------------------------------------------------------------------------------------------------------------------------------------------------------------------------------------------------------------------------------------------------------------------------------------------------------------------------------------------------------------------------------------------------------------------------------------------------------------------------------------------------------------------------------------------------------------------------------------------------------------------------------------------------------------------------------------------------------------------------------------------------------------------------------------------------------------------------------------------------------------------------------------------------------------------------------------------------------------------------------------------------------------------------------------------------------------------------------------------------------------------------------------------------------------------------------------------------------------------------------------------------------------------------------------------------------------------------------------------------------------------------------------------------------------------------------------------------------------------------------------------------------------------------------------------------------------------------------------------------------------------------------------------------------------------------------------------------------------------------------------------------------------------------------------------------------------------------------------------------------------------------------------------------------------------------------------------------------------------------------------------------------------------------------------------------------------------------------------------------------------------------------------------------------------------------------------------------------------------------------------------------------------------------------------------------------------------------------------------------------------------------------------------------------------------------------------------------------------------------------------------------------------------------------------------------------------------------------------------------------------------------------------------------------------------------------------------------------------------------------------------------------------------------------------------------------------------------------------------------------------------------------------------------------------------------------------------------------------------------------------------------------------------------------------------------------------------------------------------------------------------------------------------------------------------------------------------------------------------------------------------------------------------------------------------------------------------------------------------------------------------------------------------------------------------------------------------------------------------------------------------------------------------------------------------------------------------------------------------------------------------------------------------------------------------------------------------------------+\n",
      "only showing top 20 rows\n",
      "\n"
     ]
    }
   ],
   "source": [
    "# truncate=False to show full column\n",
    "assessments.show(truncate=False)"
   ]
  },
  {
   "cell_type": "code",
   "execution_count": 12,
   "metadata": {
    "collapsed": true
   },
   "outputs": [],
   "source": [
    "# import json to unroll data\n",
    "import json\n",
    "from pyspark.sql import Row"
   ]
  },
  {
   "cell_type": "code",
   "execution_count": 13,
   "metadata": {},
   "outputs": [
    {
     "data": {
      "text/plain": [
       "{'base_exam_id': '37f0a30a-7464-11e6-aa92-a8667f27e5dc',\n",
       " 'certification': 'false',\n",
       " 'exam_name': 'Normal Forms and All That Jazz Master Class',\n",
       " 'keen_created_at': '1516717442.735266',\n",
       " 'keen_id': '5a6745820eb8ab00016be1f1',\n",
       " 'keen_timestamp': '1516717442.735266',\n",
       " 'max_attempts': '1.0',\n",
       " 'sequences': {'attempt': 1,\n",
       "  'counts': {'all_correct': False,\n",
       "   'correct': 2,\n",
       "   'incomplete': 1,\n",
       "   'incorrect': 1,\n",
       "   'submitted': 4,\n",
       "   'total': 4,\n",
       "   'unanswered': 0},\n",
       "  'id': '5b28a462-7a3b-42e0-b508-09f3906d1703',\n",
       "  'questions': [{'id': '7a2ed6d3-f492-49b3-b8aa-d080a8aad986',\n",
       "    'options': [{'at': '2018-01-23T14:23:24.670Z',\n",
       "      'checked': True,\n",
       "      'correct': True,\n",
       "      'id': '49c574b4-5c82-4ffd-9bd1-c3358faf850d',\n",
       "      'submitted': 1},\n",
       "     {'at': '2018-01-23T14:23:25.914Z',\n",
       "      'checked': True,\n",
       "      'correct': True,\n",
       "      'id': 'f2528210-35c3-4320-acf3-9056567ea19f',\n",
       "      'submitted': 1},\n",
       "     {'checked': False,\n",
       "      'correct': True,\n",
       "      'id': 'd1bf026f-554f-4543-bdd2-54dcf105b826'}],\n",
       "    'user_correct': False,\n",
       "    'user_incomplete': True,\n",
       "    'user_result': 'missed_some',\n",
       "    'user_submitted': True},\n",
       "   {'id': 'bbed4358-999d-4462-9596-bad5173a6ecb',\n",
       "    'options': [{'at': '2018-01-23T14:23:30.116Z',\n",
       "      'checked': True,\n",
       "      'id': 'a35d0e80-8c49-415d-b8cb-c21a02627e2b',\n",
       "      'submitted': 1},\n",
       "     {'checked': False,\n",
       "      'correct': True,\n",
       "      'id': 'bccd6e2e-2cef-4c72-8bfa-317db0ac48bb'},\n",
       "     {'at': '2018-01-23T14:23:41.791Z',\n",
       "      'checked': True,\n",
       "      'correct': True,\n",
       "      'id': '7e0b639a-2ef8-4604-b7eb-5018bd81a91b',\n",
       "      'submitted': 1}],\n",
       "    'user_correct': False,\n",
       "    'user_incomplete': False,\n",
       "    'user_result': 'incorrect',\n",
       "    'user_submitted': True},\n",
       "   {'id': 'e6ad8644-96b1-4617-b37b-a263dded202c',\n",
       "    'options': [{'at': '2018-01-23T14:23:52.510Z',\n",
       "      'checked': False,\n",
       "      'id': 'a9333679-de9d-41ff-bb3d-b239d6b95732'},\n",
       "     {'checked': False, 'id': '85795acc-b4b1-4510-bd6e-41648a3553c9'},\n",
       "     {'at': '2018-01-23T14:23:54.223Z',\n",
       "      'checked': True,\n",
       "      'correct': True,\n",
       "      'id': 'c185ecdb-48fb-4edb-ae4e-0204ac7a0909',\n",
       "      'submitted': 1},\n",
       "     {'at': '2018-01-23T14:23:53.862Z',\n",
       "      'checked': True,\n",
       "      'correct': True,\n",
       "      'id': '77a66c83-d001-45cd-9a5a-6bba8eb7389e',\n",
       "      'submitted': 1}],\n",
       "    'user_correct': True,\n",
       "    'user_incomplete': False,\n",
       "    'user_result': 'correct',\n",
       "    'user_submitted': True},\n",
       "   {'id': '95194331-ac43-454e-83de-ea8913067055',\n",
       "    'options': [{'checked': False,\n",
       "      'id': '59b9fc4b-f239-4850-b1f9-912d1fd3ca13'},\n",
       "     {'checked': False, 'id': '2c29e8e8-d4a8-406e-9cdf-de28ec5890fe'},\n",
       "     {'checked': False, 'id': '62feee6e-9b76-4123-bd9e-c0b35126b1f1'},\n",
       "     {'at': '2018-01-23T14:24:00.807Z',\n",
       "      'checked': True,\n",
       "      'correct': True,\n",
       "      'id': '7f13df9c-fcbe-4424-914f-2206f106765c',\n",
       "      'submitted': 1}],\n",
       "    'user_correct': True,\n",
       "    'user_incomplete': False,\n",
       "    'user_result': 'correct',\n",
       "    'user_submitted': True}]},\n",
       " 'started_at': '2018-01-23T14:23:19.082Z',\n",
       " 'user_exam_id': '6d4089e4-bde5-4a22-b65f-18bce9ab79c8'}"
      ]
     },
     "execution_count": 13,
     "metadata": {},
     "output_type": "execute_result"
    }
   ],
   "source": [
    "# pull out first message\n",
    "first_assessment = json.loads(assessments.select('value').take(1)[0].value)\n",
    "first_assessment"
   ]
  },
  {
   "cell_type": "code",
   "execution_count": 14,
   "metadata": {},
   "outputs": [
    {
     "name": "stdout",
     "output_type": "stream",
     "text": [
      "5a6745820eb8ab00016be1f1\n"
     ]
    }
   ],
   "source": [
    "print(first_assessment['keen_id'])"
   ]
  },
  {
   "cell_type": "code",
   "execution_count": 15,
   "metadata": {},
   "outputs": [],
   "source": [
    "# write assessments in current form to HDFS\n",
    "assessments.write.mode(\"overwrite\").parquet(\"/tmp/assessments\")"
   ]
  },
  {
   "cell_type": "markdown",
   "metadata": {},
   "source": [
    "- Go to terminal to see results\n",
    "```\n",
    "docker-compose exec cloudera hadoop fs -ls /tmp/\n",
    "```\n",
    "- Expected output\n",
    "```\n",
    "Found 3 items\n",
    "drwxr-xr-x   - root   supergroup          0 2021-03-07 06:30 /tmp/assessments\n",
    "drwxrwxrwt   - mapred mapred              0 2018-02-06 18:27 /tmp/hadoop-yarn\n",
    "drwx-wx-wx   - root   supergroup          0 2021-03-07 04:38 /tmp/hive\n",
    "```\n",
    "- Check out assessments\n",
    "```\n",
    "docker-compose exec cloudera hadoop fs -ls /tmp/assessments\n",
    "```\n",
    "- Expected output\n",
    "```\n",
    "Found 2 items\n",
    "-rw-r--r--   1 root supergroup          0 2021-03-07 06:30 /tmp/assessments/_SUCCESS\n",
    "-rw-r--r--   1 root supergroup    5019331 2021-03-07 06:30 /tmp/assessments/part-00000-e91a832d-1b09-4d40-a84c-9187b30a9c4d-c000.snappy.parquet\n",
    "```"
   ]
  },
  {
   "cell_type": "markdown",
   "metadata": {},
   "source": [
    "## Issues encountered when extracting the data"
   ]
  },
  {
   "cell_type": "code",
   "execution_count": 16,
   "metadata": {},
   "outputs": [
    {
     "name": "stdout",
     "output_type": "stream",
     "text": [
      "+--------------------+\n",
      "|               value|\n",
      "+--------------------+\n",
      "|{\"keen_timestamp\"...|\n",
      "|{\"keen_timestamp\"...|\n",
      "|{\"keen_timestamp\"...|\n",
      "|{\"keen_timestamp\"...|\n",
      "|{\"keen_timestamp\"...|\n",
      "|{\"keen_timestamp\"...|\n",
      "|{\"keen_timestamp\"...|\n",
      "|{\"keen_timestamp\"...|\n",
      "|{\"keen_timestamp\"...|\n",
      "|{\"keen_timestamp\"...|\n",
      "|{\"keen_timestamp\"...|\n",
      "|{\"keen_timestamp\"...|\n",
      "|{\"keen_timestamp\"...|\n",
      "|{\"keen_timestamp\"...|\n",
      "|{\"keen_timestamp\"...|\n",
      "|{\"keen_timestamp\"...|\n",
      "|{\"keen_timestamp\"...|\n",
      "|{\"keen_timestamp\"...|\n",
      "|{\"keen_timestamp\"...|\n",
      "|{\"keen_timestamp\"...|\n",
      "+--------------------+\n",
      "only showing top 20 rows\n",
      "\n"
     ]
    }
   ],
   "source": [
    "# so what did we actually write?\n",
    "assessments.show()"
   ]
  },
  {
   "cell_type": "code",
   "execution_count": 17,
   "metadata": {
    "collapsed": true
   },
   "outputs": [],
   "source": [
    "# the above isn't a very helpful structure\n",
    "# use RDD to load json, unroll and save these to extracted assessments\n",
    "extracted_assessments = assessments.rdd.map(lambda x: Row(**json.loads(x.value))).toDF()"
   ]
  },
  {
   "cell_type": "code",
   "execution_count": 18,
   "metadata": {},
   "outputs": [
    {
     "name": "stdout",
     "output_type": "stream",
     "text": [
      "+--------------------+-------------+--------------------+------------------+--------------------+------------------+------------+--------------------+--------------------+--------------------+\n",
      "|        base_exam_id|certification|           exam_name|   keen_created_at|             keen_id|    keen_timestamp|max_attempts|           sequences|          started_at|        user_exam_id|\n",
      "+--------------------+-------------+--------------------+------------------+--------------------+------------------+------------+--------------------+--------------------+--------------------+\n",
      "|37f0a30a-7464-11e...|        false|Normal Forms and ...| 1516717442.735266|5a6745820eb8ab000...| 1516717442.735266|         1.0|Map(questions -> ...|2018-01-23T14:23:...|6d4089e4-bde5-4a2...|\n",
      "|37f0a30a-7464-11e...|        false|Normal Forms and ...| 1516717377.639827|5a674541ab6b0a000...| 1516717377.639827|         1.0|Map(questions -> ...|2018-01-23T14:21:...|2fec1534-b41f-441...|\n",
      "|4beeac16-bb83-4d5...|        false|The Principles of...| 1516738973.653394|5a67999d3ed3e3000...| 1516738973.653394|         1.0|Map(questions -> ...|2018-01-23T20:22:...|8edbc8a8-4d26-429...|\n",
      "|4beeac16-bb83-4d5...|        false|The Principles of...|1516738921.1137421|5a6799694fc7c7000...|1516738921.1137421|         1.0|Map(questions -> ...|2018-01-23T20:21:...|c0ee680e-8892-4e6...|\n",
      "|6442707e-7488-11e...|        false|Introduction to B...| 1516737000.212122|5a6791e824fccd000...| 1516737000.212122|         1.0|Map(questions -> ...|2018-01-23T19:48:...|e4525b79-7904-405...|\n",
      "|8b4488de-43a5-4ff...|        false|        Learning Git| 1516740790.309757|5a67a0b6852c2a000...| 1516740790.309757|         1.0|Map(questions -> ...|2018-01-23T20:51:...|3186dafa-7acf-47e...|\n",
      "|e1f07fac-5566-4fd...|        false|Git Fundamentals ...|1516746279.3801291|5a67b627cc80e6000...|1516746279.3801291|         1.0|Map(questions -> ...|2018-01-23T22:24:...|48d88326-36a3-4cb...|\n",
      "|7e2e0b53-a7ba-458...|        false|Introduction to P...| 1516743820.305464|5a67ac8cb0a5f4000...| 1516743820.305464|         1.0|Map(questions -> ...|2018-01-23T21:43:...|bb152d6b-cada-41e...|\n",
      "|1a233da8-e6e5-48a...|        false|Intermediate Pyth...|  1516743098.56811|5a67a9ba060087000...|  1516743098.56811|         1.0|Map(questions -> ...|2018-01-23T21:31:...|70073d6f-ced5-4d0...|\n",
      "|7e2e0b53-a7ba-458...|        false|Introduction to P...| 1516743764.813107|5a67ac54411aed000...| 1516743764.813107|         1.0|Map(questions -> ...|2018-01-23T21:42:...|9eb6d4d6-fd1f-4f3...|\n",
      "|4cdf9b5f-fdb7-4a4...|        false|A Practical Intro...|1516744091.3127241|5a67ad9b2ff312000...|1516744091.3127241|         1.0|Map(questions -> ...|2018-01-23T21:45:...|093f1337-7090-457...|\n",
      "|e1f07fac-5566-4fd...|        false|Git Fundamentals ...|1516746256.5878439|5a67b610baff90000...|1516746256.5878439|         1.0|Map(questions -> ...|2018-01-23T22:24:...|0f576abb-958a-4c0...|\n",
      "|87b4b3f9-3a86-435...|        false|Introduction to M...|  1516743832.99235|5a67ac9837b82b000...|  1516743832.99235|         1.0|Map(questions -> ...|2018-01-23T21:40:...|0c18f48c-0018-450...|\n",
      "|a7a65ec6-77dc-480...|        false|   Python Epiphanies|1516743332.7596769|5a67aaa4f21cc2000...|1516743332.7596769|         1.0|Map(questions -> ...|2018-01-23T21:34:...|b38ac9d8-eef9-495...|\n",
      "|7e2e0b53-a7ba-458...|        false|Introduction to P...| 1516743750.097306|5a67ac46f7bce8000...| 1516743750.097306|         1.0|Map(questions -> ...|2018-01-23T21:41:...|bbc9865f-88ef-42e...|\n",
      "|e5602ceb-6f0d-11e...|        false|Python Data Struc...|1516744410.4791961|5a67aedaf34e85000...|1516744410.4791961|         1.0|Map(questions -> ...|2018-01-23T21:51:...|8a0266df-02d7-44e...|\n",
      "|e5602ceb-6f0d-11e...|        false|Python Data Struc...|1516744446.3999851|5a67aefef5e149000...|1516744446.3999851|         1.0|Map(questions -> ...|2018-01-23T21:53:...|95d4edb1-533f-445...|\n",
      "|f432e2e3-7e3a-4a7...|        false|Working with Algo...| 1516744255.840405|5a67ae3f0c5f48000...| 1516744255.840405|         1.0|Map(questions -> ...|2018-01-23T21:50:...|f9bc1eff-7e54-42a...|\n",
      "|76a682de-6f0c-11e...|        false|Learning iPython ...| 1516744023.652257|5a67ad579d5057000...| 1516744023.652257|         1.0|Map(questions -> ...|2018-01-23T21:46:...|dc4b35a7-399a-4bd...|\n",
      "|a7a65ec6-77dc-480...|        false|   Python Epiphanies|1516743398.6451161|5a67aae6753fd6000...|1516743398.6451161|         1.0|Map(questions -> ...|2018-01-23T21:35:...|d0f8249a-597e-4e1...|\n",
      "+--------------------+-------------+--------------------+------------------+--------------------+------------------+------------+--------------------+--------------------+--------------------+\n",
      "only showing top 20 rows\n",
      "\n"
     ]
    }
   ],
   "source": [
    "# unrolled version\n",
    "extracted_assessments.show()"
   ]
  },
  {
   "cell_type": "markdown",
   "metadata": {},
   "source": [
    "- `sequences` column is still nested because it has 'Map' in its value"
   ]
  },
  {
   "cell_type": "code",
   "execution_count": 19,
   "metadata": {},
   "outputs": [
    {
     "name": "stdout",
     "output_type": "stream",
     "text": [
      "root\n",
      " |-- base_exam_id: string (nullable = true)\n",
      " |-- certification: string (nullable = true)\n",
      " |-- exam_name: string (nullable = true)\n",
      " |-- keen_created_at: string (nullable = true)\n",
      " |-- keen_id: string (nullable = true)\n",
      " |-- keen_timestamp: string (nullable = true)\n",
      " |-- max_attempts: string (nullable = true)\n",
      " |-- sequences: map (nullable = true)\n",
      " |    |-- key: string\n",
      " |    |-- value: array (valueContainsNull = true)\n",
      " |    |    |-- element: map (containsNull = true)\n",
      " |    |    |    |-- key: string\n",
      " |    |    |    |-- value: boolean (valueContainsNull = true)\n",
      " |-- started_at: string (nullable = true)\n",
      " |-- user_exam_id: string (nullable = true)\n",
      "\n"
     ]
    }
   ],
   "source": [
    "# print schema\n",
    "extracted_assessments.printSchema()"
   ]
  },
  {
   "cell_type": "markdown",
   "metadata": {},
   "source": [
    "- `sequences` is confirmed to be nested\n",
    "- there are missing values in some JSON objects"
   ]
  },
  {
   "cell_type": "code",
   "execution_count": 20,
   "metadata": {
    "collapsed": true
   },
   "outputs": [],
   "source": [
    "# create 'assessments' table\n",
    "extracted_assessments.registerTempTable('assessments')"
   ]
  },
  {
   "cell_type": "code",
   "execution_count": 21,
   "metadata": {},
   "outputs": [
    {
     "name": "stdout",
     "output_type": "stream",
     "text": [
      "+--------------------+\n",
      "|             keen_id|\n",
      "+--------------------+\n",
      "|5a6745820eb8ab000...|\n",
      "|5a674541ab6b0a000...|\n",
      "|5a67999d3ed3e3000...|\n",
      "|5a6799694fc7c7000...|\n",
      "|5a6791e824fccd000...|\n",
      "|5a67a0b6852c2a000...|\n",
      "|5a67b627cc80e6000...|\n",
      "|5a67ac8cb0a5f4000...|\n",
      "|5a67a9ba060087000...|\n",
      "|5a67ac54411aed000...|\n",
      "+--------------------+\n",
      "\n"
     ]
    }
   ],
   "source": [
    "# use SQL syntax to query data\n",
    "spark.sql(\"select keen_id from assessments limit 10\").show()"
   ]
  },
  {
   "cell_type": "code",
   "execution_count": 22,
   "metadata": {},
   "outputs": [
    {
     "name": "stdout",
     "output_type": "stream",
     "text": [
      "+------------------+-------------------------------------------------------+\n",
      "|    keen_timestamp|sequences[questions] AS `questions`[0][user_incomplete]|\n",
      "+------------------+-------------------------------------------------------+\n",
      "| 1516717442.735266|                                                   true|\n",
      "| 1516717377.639827|                                                  false|\n",
      "| 1516738973.653394|                                                  false|\n",
      "|1516738921.1137421|                                                  false|\n",
      "| 1516737000.212122|                                                  false|\n",
      "| 1516740790.309757|                                                  false|\n",
      "|1516746279.3801291|                                                  false|\n",
      "| 1516743820.305464|                                                  false|\n",
      "|  1516743098.56811|                                                  false|\n",
      "| 1516743764.813107|                                                  false|\n",
      "+------------------+-------------------------------------------------------+\n",
      "\n"
     ]
    }
   ],
   "source": [
    "# used dot notation with the [] operator to pull single item from a list\n",
    "# note that sequences.questions is a list (multi-valued)\n",
    "spark.sql(\"select keen_timestamp, sequences.questions[0].user_incomplete from assessments limit 10\").show()"
   ]
  },
  {
   "cell_type": "markdown",
   "metadata": {},
   "source": [
    "### Nested multi-value as a dictionary\n",
    "Sequence.id is extracted through writing a custom lambda transform function, creating a separate data frame, registering it as a temp table and using Spark SQL to join it to the outer nesting layer."
   ]
  },
  {
   "cell_type": "code",
   "execution_count": 23,
   "metadata": {
    "collapsed": true
   },
   "outputs": [],
   "source": [
    "# function to unnest sequence.id\n",
    "def my_lambda_sequences_id(x):\n",
    "    raw_dict = json.loads(x.value)\n",
    "    my_dict = {\"keen_id\" : raw_dict[\"keen_id\"], \"sequences_id\" : raw_dict[\"sequences\"][\"id\"]}\n",
    "    return Row(**my_dict)\n",
    "\n",
    "my_sequences = assessments.rdd.map(my_lambda_sequences_id).toDF()"
   ]
  },
  {
   "cell_type": "code",
   "execution_count": 24,
   "metadata": {},
   "outputs": [
    {
     "name": "stdout",
     "output_type": "stream",
     "text": [
      "root\n",
      " |-- keen_id: string (nullable = true)\n",
      " |-- sequences_id: string (nullable = true)\n",
      "\n"
     ]
    }
   ],
   "source": [
    "# print schema\n",
    "my_sequences.printSchema()"
   ]
  },
  {
   "cell_type": "code",
   "execution_count": 25,
   "metadata": {},
   "outputs": [
    {
     "name": "stdout",
     "output_type": "stream",
     "text": [
      "+--------------------+--------------------+\n",
      "|             keen_id|        sequences_id|\n",
      "+--------------------+--------------------+\n",
      "|5a6745820eb8ab000...|5b28a462-7a3b-42e...|\n",
      "|5a674541ab6b0a000...|5b28a462-7a3b-42e...|\n",
      "|5a67999d3ed3e3000...|b370a3aa-bf9e-4c1...|\n",
      "|5a6799694fc7c7000...|b370a3aa-bf9e-4c1...|\n",
      "|5a6791e824fccd000...|04a192c1-4f5c-4ac...|\n",
      "|5a67a0b6852c2a000...|e7110aed-0d08-4cb...|\n",
      "|5a67b627cc80e6000...|5251db24-2a6e-424...|\n",
      "|5a67ac8cb0a5f4000...|066b5326-e547-4da...|\n",
      "|5a67a9ba060087000...|8ac691f8-8c1a-403...|\n",
      "|5a67ac54411aed000...|066b5326-e547-4da...|\n",
      "|5a67ad9b2ff312000...|083844c5-772f-48d...|\n",
      "|5a67b610baff90000...|5251db24-2a6e-424...|\n",
      "|5a67ac9837b82b000...|b68128a9-6b50-41f...|\n",
      "|5a67aaa4f21cc2000...|67457eec-4cad-416...|\n",
      "|5a67ac46f7bce8000...|066b5326-e547-4da...|\n",
      "|5a67aedaf34e85000...|7b754bca-91a1-4aa...|\n",
      "|5a67aefef5e149000...|7b754bca-91a1-4aa...|\n",
      "|5a67ae3f0c5f48000...|42a1e4c5-7a08-469...|\n",
      "|5a67ad579d5057000...|d51a016b-0122-452...|\n",
      "|5a67aae6753fd6000...|67457eec-4cad-416...|\n",
      "+--------------------+--------------------+\n",
      "only showing top 20 rows\n",
      "\n"
     ]
    }
   ],
   "source": [
    "# display result\n",
    "my_sequences.show()"
   ]
  },
  {
   "cell_type": "code",
   "execution_count": 26,
   "metadata": {
    "collapsed": true
   },
   "outputs": [],
   "source": [
    "# create table\n",
    "my_sequences.registerTempTable('sequences')"
   ]
  },
  {
   "cell_type": "code",
   "execution_count": 27,
   "metadata": {},
   "outputs": [
    {
     "name": "stdout",
     "output_type": "stream",
     "text": [
      "+--------------------+\n",
      "|        sequences_id|\n",
      "+--------------------+\n",
      "|5b28a462-7a3b-42e...|\n",
      "|5b28a462-7a3b-42e...|\n",
      "|b370a3aa-bf9e-4c1...|\n",
      "|b370a3aa-bf9e-4c1...|\n",
      "|04a192c1-4f5c-4ac...|\n",
      "|e7110aed-0d08-4cb...|\n",
      "|5251db24-2a6e-424...|\n",
      "|066b5326-e547-4da...|\n",
      "|8ac691f8-8c1a-403...|\n",
      "|066b5326-e547-4da...|\n",
      "+--------------------+\n",
      "\n"
     ]
    }
   ],
   "source": [
    "# query top 10 result\n",
    "spark.sql(\"select sequences_id from sequences limit 10\").show()"
   ]
  },
  {
   "cell_type": "code",
   "execution_count": 28,
   "metadata": {},
   "outputs": [
    {
     "name": "stdout",
     "output_type": "stream",
     "text": [
      "+--------------------+------------------+--------------------+\n",
      "|             keen_id|    keen_timestamp|        sequences_id|\n",
      "+--------------------+------------------+--------------------+\n",
      "|5a17a67efa1257000...|1511499390.3836269|8ac691f8-8c1a-403...|\n",
      "|5a26ee9cbf5ce1000...|1512500892.4166169|9bd87823-4508-4e0...|\n",
      "|5a29dcac74b662000...|1512692908.8423469|e7110aed-0d08-4cb...|\n",
      "|5a2fdab0eabeda000...|1513085616.2275269|cd800e92-afc3-447...|\n",
      "|5a30105020e9d4000...|1513099344.8624721|8ac691f8-8c1a-403...|\n",
      "|5a3a6fc3f0a100000...| 1513779139.354213|e7110aed-0d08-4cb...|\n",
      "|5a4e17fe08a892000...|1515067390.1336551|9abd5b51-6bd8-11e...|\n",
      "|5a4f3c69cc6444000...| 1515142249.858722|083844c5-772f-48d...|\n",
      "|5a51b21bd0480b000...| 1515303451.773272|e7110aed-0d08-4cb...|\n",
      "|5a575a85329e1a000...| 1515674245.348099|25ca21fe-4dbb-446...|\n",
      "+--------------------+------------------+--------------------+\n",
      "\n"
     ]
    }
   ],
   "source": [
    "# join and flatten table\n",
    "spark.sql(\"select a.keen_id, a.keen_timestamp, s.sequences_id from assessments a join sequences s on a.keen_id = s.keen_id limit 10\").show()"
   ]
  },
  {
   "cell_type": "markdown",
   "metadata": {},
   "source": [
    "### Nested multi-value as a list\n",
    "Values from the list are extracted through writing a custom lambda transform function, creating a separate data frame, registering it as a temp table and using Spark SQL to join it to the outer nesting layer."
   ]
  },
  {
   "cell_type": "code",
   "execution_count": 29,
   "metadata": {
    "collapsed": true
   },
   "outputs": [],
   "source": [
    "# function to unnest sequence.question\n",
    "def my_lambda_questions(x):\n",
    "    raw_dict = json.loads(x.value)\n",
    "    my_list = []\n",
    "    my_count = 0\n",
    "    for l in raw_dict[\"sequences\"][\"questions\"]:\n",
    "        my_count += 1\n",
    "        my_dict = {\"keen_id\" : raw_dict[\"keen_id\"], \"my_count\" : my_count, \"id\" : l[\"id\"]}\n",
    "        my_list.append(Row(**my_dict))\n",
    "    return my_list\n",
    "\n",
    "my_questions = assessments.rdd.flatMap(my_lambda_questions).toDF()"
   ]
  },
  {
   "cell_type": "code",
   "execution_count": 30,
   "metadata": {},
   "outputs": [
    {
     "name": "stdout",
     "output_type": "stream",
     "text": [
      "root\n",
      " |-- id: string (nullable = true)\n",
      " |-- keen_id: string (nullable = true)\n",
      " |-- my_count: long (nullable = true)\n",
      "\n"
     ]
    }
   ],
   "source": [
    "# print schema\n",
    "my_questions.printSchema()"
   ]
  },
  {
   "cell_type": "code",
   "execution_count": 31,
   "metadata": {},
   "outputs": [
    {
     "name": "stdout",
     "output_type": "stream",
     "text": [
      "+--------------------+--------------------+--------+\n",
      "|                  id|             keen_id|my_count|\n",
      "+--------------------+--------------------+--------+\n",
      "|7a2ed6d3-f492-49b...|5a6745820eb8ab000...|       1|\n",
      "|bbed4358-999d-446...|5a6745820eb8ab000...|       2|\n",
      "|e6ad8644-96b1-461...|5a6745820eb8ab000...|       3|\n",
      "|95194331-ac43-454...|5a6745820eb8ab000...|       4|\n",
      "|95194331-ac43-454...|5a674541ab6b0a000...|       1|\n",
      "|bbed4358-999d-446...|5a674541ab6b0a000...|       2|\n",
      "|e6ad8644-96b1-461...|5a674541ab6b0a000...|       3|\n",
      "|7a2ed6d3-f492-49b...|5a674541ab6b0a000...|       4|\n",
      "|b9ff2e88-cf9d-4bd...|5a67999d3ed3e3000...|       1|\n",
      "|bec23e7b-4870-49f...|5a67999d3ed3e3000...|       2|\n",
      "|1ba75b31-64a4-4bd...|5a67999d3ed3e3000...|       3|\n",
      "|1f7c5def-904b-483...|5a67999d3ed3e3000...|       4|\n",
      "|1f7c5def-904b-483...|5a6799694fc7c7000...|       1|\n",
      "|bec23e7b-4870-49f...|5a6799694fc7c7000...|       2|\n",
      "|1ba75b31-64a4-4bd...|5a6799694fc7c7000...|       3|\n",
      "|b9ff2e88-cf9d-4bd...|5a6799694fc7c7000...|       4|\n",
      "|620c924f-6bd8-11e...|5a6791e824fccd000...|       1|\n",
      "|f4bc7618-76ac-11e...|5a6791e824fccd000...|       2|\n",
      "|42d6d026-6bd8-11e...|5a6791e824fccd000...|       3|\n",
      "|8372371c-6bd8-11e...|5a6791e824fccd000...|       4|\n",
      "+--------------------+--------------------+--------+\n",
      "only showing top 20 rows\n",
      "\n"
     ]
    }
   ],
   "source": [
    "# display result\n",
    "my_questions.show()"
   ]
  },
  {
   "cell_type": "code",
   "execution_count": 32,
   "metadata": {
    "collapsed": true
   },
   "outputs": [],
   "source": [
    "# create table\n",
    "my_questions.registerTempTable('questions')"
   ]
  },
  {
   "cell_type": "code",
   "execution_count": 33,
   "metadata": {},
   "outputs": [
    {
     "name": "stdout",
     "output_type": "stream",
     "text": [
      "+--------------------+--------+\n",
      "|                  id|my_count|\n",
      "+--------------------+--------+\n",
      "|7a2ed6d3-f492-49b...|       1|\n",
      "|bbed4358-999d-446...|       2|\n",
      "|e6ad8644-96b1-461...|       3|\n",
      "|95194331-ac43-454...|       4|\n",
      "|95194331-ac43-454...|       1|\n",
      "|bbed4358-999d-446...|       2|\n",
      "|e6ad8644-96b1-461...|       3|\n",
      "|7a2ed6d3-f492-49b...|       4|\n",
      "|b9ff2e88-cf9d-4bd...|       1|\n",
      "|bec23e7b-4870-49f...|       2|\n",
      "+--------------------+--------+\n",
      "\n"
     ]
    }
   ],
   "source": [
    "# query top 10 result\n",
    "spark.sql(\"select id, my_count from questions limit 10\").show()"
   ]
  },
  {
   "cell_type": "code",
   "execution_count": 34,
   "metadata": {},
   "outputs": [
    {
     "name": "stdout",
     "output_type": "stream",
     "text": [
      "+--------------------+------------------+--------------------+\n",
      "|             keen_id|    keen_timestamp|                  id|\n",
      "+--------------------+------------------+--------------------+\n",
      "|5a17a67efa1257000...|1511499390.3836269|803fc93f-7eb2-412...|\n",
      "|5a17a67efa1257000...|1511499390.3836269|f3cb88cc-5b79-41b...|\n",
      "|5a17a67efa1257000...|1511499390.3836269|32fe7d8d-6d89-4db...|\n",
      "|5a17a67efa1257000...|1511499390.3836269|5c34cf19-8cfd-4f5...|\n",
      "|5a26ee9cbf5ce1000...|1512500892.4166169|0603e6f4-c3f9-4c2...|\n",
      "|5a26ee9cbf5ce1000...|1512500892.4166169|26a06b88-2758-45b...|\n",
      "|5a26ee9cbf5ce1000...|1512500892.4166169|25b6effe-79b0-4c4...|\n",
      "|5a26ee9cbf5ce1000...|1512500892.4166169|6de03a9b-2a78-46b...|\n",
      "|5a26ee9cbf5ce1000...|1512500892.4166169|aaf39991-fa83-470...|\n",
      "|5a26ee9cbf5ce1000...|1512500892.4166169|aab2e817-73dc-4ff...|\n",
      "+--------------------+------------------+--------------------+\n",
      "\n"
     ]
    }
   ],
   "source": [
    "# join and flatten table\n",
    "spark.sql(\"select q.keen_id, a.keen_timestamp, q.id from assessments a join questions q on a.keen_id = q.keen_id limit 10\").show()"
   ]
  },
  {
   "cell_type": "markdown",
   "metadata": {},
   "source": [
    "### Handling missing data in JSON data\n",
    "When unnesting JSON for the assessments data, if a key in a dictionary does not exist for all the items, it will produce an error when referencing in the cases it does not exist. Mitigation of 'holes' in data is to default it to zero if it does not exist. However, if average or standard deviation values were to be computed, the zeroes will skew the results. In order to rectify this behavior, instead of using the 'map()' Spark function, 'flatMap()' will be used instead which removes a level of indirection at the end.\n",
    "\n",
    "For example, the below illustrates what 'flatmap()' does:\n",
    "\n",
    "Here is how the flat map works in this case. Suppose A, B, C, and D are all dictionaries:\n",
    "\n",
    "( (A), ( ), (B), ( ) , ( ), (C), (D), ( ) )\n",
    "\n",
    "flat maps to:\n",
    "\n",
    "(A, B, C, D)"
   ]
  },
  {
   "cell_type": "code",
   "execution_count": 35,
   "metadata": {
    "collapsed": true
   },
   "outputs": [],
   "source": [
    "# function to flatten nested structure\n",
    "def my_lambda_correct_total(x):\n",
    "    # load json\n",
    "    raw_dict = json.loads(x.value)\n",
    "    \n",
    "    # initialize empty list\n",
    "    my_list = []\n",
    "    \n",
    "    # if sequences in dictionary\n",
    "    if \"sequences\" in raw_dict:\n",
    "        \n",
    "        # if counts are in sequences\n",
    "        if \"counts\" in raw_dict[\"sequences\"]:\n",
    "            \n",
    "            # if correct and total are in counts\n",
    "            if \"correct\" in raw_dict[\"sequences\"][\"counts\"] and \"total\" in raw_dict[\"sequences\"][\"counts\"]:\n",
    "                    \n",
    "                # extract exam nameand count correctly answered questions and total\n",
    "                my_dict = {\"correct\": raw_dict[\"sequences\"][\"counts\"][\"correct\"], \n",
    "                           \"total\": raw_dict[\"sequences\"][\"counts\"][\"total\"]}\n",
    "                \n",
    "                # append row to list\n",
    "                my_list.append(Row(**my_dict))\n",
    "    \n",
    "    # return list output\n",
    "    return my_list\n",
    "\n",
    "my_correct_total = assessments.rdd.flatMap(my_lambda_correct_total).toDF()"
   ]
  },
  {
   "cell_type": "code",
   "execution_count": 36,
   "metadata": {},
   "outputs": [
    {
     "name": "stdout",
     "output_type": "stream",
     "text": [
      "root\n",
      " |-- correct: long (nullable = true)\n",
      " |-- total: long (nullable = true)\n",
      "\n"
     ]
    }
   ],
   "source": [
    "# print schema\n",
    "my_correct_total.printSchema()"
   ]
  },
  {
   "cell_type": "code",
   "execution_count": 37,
   "metadata": {},
   "outputs": [
    {
     "name": "stdout",
     "output_type": "stream",
     "text": [
      "+-------+-----+\n",
      "|correct|total|\n",
      "+-------+-----+\n",
      "|      2|    4|\n",
      "|      1|    4|\n",
      "|      3|    4|\n",
      "|      2|    4|\n",
      "|      3|    4|\n",
      "|      5|    5|\n",
      "|      1|    1|\n",
      "|      5|    5|\n",
      "|      4|    4|\n",
      "|      0|    5|\n",
      "|      3|    4|\n",
      "|      1|    1|\n",
      "|      4|    6|\n",
      "|      4|    6|\n",
      "|      4|    5|\n",
      "|      3|    4|\n",
      "|      3|    4|\n",
      "|      4|    4|\n",
      "|      2|    4|\n",
      "|      6|    6|\n",
      "+-------+-----+\n",
      "only showing top 20 rows\n",
      "\n"
     ]
    }
   ],
   "source": [
    "# display result\n",
    "my_correct_total.show()"
   ]
  },
  {
   "cell_type": "code",
   "execution_count": 38,
   "metadata": {
    "collapsed": true
   },
   "outputs": [],
   "source": [
    "# create table\n",
    "my_correct_total.registerTempTable('ct')"
   ]
  },
  {
   "cell_type": "code",
   "execution_count": 39,
   "metadata": {},
   "outputs": [
    {
     "name": "stdout",
     "output_type": "stream",
     "text": [
      "+-------+-----+\n",
      "|correct|total|\n",
      "+-------+-----+\n",
      "|      2|    4|\n",
      "|      1|    4|\n",
      "|      3|    4|\n",
      "|      2|    4|\n",
      "|      3|    4|\n",
      "|      5|    5|\n",
      "|      1|    1|\n",
      "|      5|    5|\n",
      "|      4|    4|\n",
      "|      0|    5|\n",
      "+-------+-----+\n",
      "\n"
     ]
    }
   ],
   "source": [
    "# query top 10 result\n",
    "spark.sql(\"select * from ct limit 10\").show()"
   ]
  },
  {
   "cell_type": "code",
   "execution_count": 40,
   "metadata": {},
   "outputs": [
    {
     "name": "stdout",
     "output_type": "stream",
     "text": [
      "+-----+\n",
      "|score|\n",
      "+-----+\n",
      "|  0.5|\n",
      "| 0.25|\n",
      "| 0.75|\n",
      "|  0.5|\n",
      "| 0.75|\n",
      "|  1.0|\n",
      "|  1.0|\n",
      "|  1.0|\n",
      "|  1.0|\n",
      "|  0.0|\n",
      "+-----+\n",
      "\n"
     ]
    }
   ],
   "source": [
    "# query top 10 result\n",
    "spark.sql(\"select correct / total as score from ct limit 10\").show()"
   ]
  },
  {
   "cell_type": "code",
   "execution_count": 41,
   "metadata": {},
   "outputs": [
    {
     "name": "stdout",
     "output_type": "stream",
     "text": [
      "+-----------------+\n",
      "|        avg_score|\n",
      "+-----------------+\n",
      "|62.65699745547047|\n",
      "+-----------------+\n",
      "\n"
     ]
    }
   ],
   "source": [
    "# query average exam score\n",
    "spark.sql(\"select avg(correct / total)*100 as avg_score from ct limit 10\").show()"
   ]
  },
  {
   "cell_type": "code",
   "execution_count": 42,
   "metadata": {},
   "outputs": [
    {
     "name": "stdout",
     "output_type": "stream",
     "text": [
      "+-------------------+\n",
      "| standard_deviation|\n",
      "+-------------------+\n",
      "|0.31086692286170553|\n",
      "+-------------------+\n",
      "\n"
     ]
    }
   ],
   "source": [
    "# query exam score standard deviation\n",
    "spark.sql(\"select stddev(correct / total) as standard_deviation from ct limit 10\").show()"
   ]
  },
  {
   "cell_type": "code",
   "execution_count": 43,
   "metadata": {
    "collapsed": true
   },
   "outputs": [],
   "source": [
    "# write current form to HDFS\n",
    "my_correct_total.write.mode(\"overwrite\").parquet(\"/tmp/correct_total\")"
   ]
  },
  {
   "cell_type": "code",
   "execution_count": 44,
   "metadata": {
    "collapsed": true
   },
   "outputs": [],
   "source": [
    "# write current form to HDFS\n",
    "assessments.write.mode(\"overwrite\").parquet(\"/tmp/assessments\")"
   ]
  },
  {
   "cell_type": "code",
   "execution_count": 45,
   "metadata": {
    "collapsed": true
   },
   "outputs": [],
   "source": [
    "# write current form to HDFS\n",
    "my_questions.write.mode(\"overwrite\").parquet(\"/tmp/questions\")"
   ]
  },
  {
   "cell_type": "markdown",
   "metadata": {},
   "source": [
    "## Business Questions\n",
    "\n",
    "Assumptions of the dataset:\n",
    "- Each row is unique and there are no duplicates or erroneous datapoint\n",
    "- The fields are aptly named and self-explanatory as described above"
   ]
  },
  {
   "cell_type": "markdown",
   "metadata": {},
   "source": [
    "1) How many assessments are in the dataset?"
   ]
  },
  {
   "cell_type": "code",
   "execution_count": 46,
   "metadata": {
    "collapsed": true
   },
   "outputs": [],
   "source": [
    "num_assessments = spark.sql(\"select count(keen_id) as num_assessments from assessments\")"
   ]
  },
  {
   "cell_type": "code",
   "execution_count": 47,
   "metadata": {},
   "outputs": [
    {
     "name": "stdout",
     "output_type": "stream",
     "text": [
      "+---------------+\n",
      "|num_assessments|\n",
      "+---------------+\n",
      "|           3280|\n",
      "+---------------+\n",
      "\n"
     ]
    }
   ],
   "source": [
    "num_assessments.show()"
   ]
  },
  {
   "cell_type": "markdown",
   "metadata": {},
   "source": [
    "There are 3280 assessments. I used the `keen_id` field with the assumption that these are the profiles/instances created by assessment takers in order to record an assessment attempt."
   ]
  },
  {
   "cell_type": "markdown",
   "metadata": {},
   "source": [
    "2) What's the name of your Kafka topic? How did you come up with that name?"
   ]
  },
  {
   "cell_type": "markdown",
   "metadata": {},
   "source": [
    "The name of my Kafka topic is `assessments`. It makes intuitive sense to name it `assessments` as we've created a service at our ed tech firm to deliver assessments for our customers. In addition, the raw data consist of assessment information."
   ]
  },
  {
   "cell_type": "markdown",
   "metadata": {},
   "source": [
    "3) How many people took Learning Git?"
   ]
  },
  {
   "cell_type": "code",
   "execution_count": 48,
   "metadata": {
    "collapsed": true
   },
   "outputs": [],
   "source": [
    "num_ppl_learning_git = spark.sql(\"select count(exam_name) as num_people from assessments where exam_name = 'Learning Git'\")"
   ]
  },
  {
   "cell_type": "code",
   "execution_count": 49,
   "metadata": {},
   "outputs": [
    {
     "name": "stdout",
     "output_type": "stream",
     "text": [
      "+----------+\n",
      "|num_people|\n",
      "+----------+\n",
      "|       394|\n",
      "+----------+\n",
      "\n"
     ]
    }
   ],
   "source": [
    "num_ppl_learning_git.show()"
   ]
  },
  {
   "cell_type": "markdown",
   "metadata": {},
   "source": [
    "There are 394 people that haven taken 'Learning Git'. I queried this using the `exam_name` field."
   ]
  },
  {
   "cell_type": "markdown",
   "metadata": {},
   "source": [
    "## Query and Store Business Question Answers"
   ]
  },
  {
   "cell_type": "markdown",
   "metadata": {},
   "source": [
    "You are able to store the below in HDFS using the below shown examples."
   ]
  },
  {
   "cell_type": "code",
   "execution_count": 50,
   "metadata": {
    "collapsed": true
   },
   "outputs": [],
   "source": [
    "# write to Hadoop\n",
    "num_assessments.write.mode(\"overwrite\").parquet(\"/tmp/num_assessments\")"
   ]
  },
  {
   "cell_type": "code",
   "execution_count": 51,
   "metadata": {
    "collapsed": true
   },
   "outputs": [],
   "source": [
    "# write to Hadoop\n",
    "num_ppl_learning_git.write.mode(\"overwrite\").parquet(\"/tmp/num_ppl_learning_git\")"
   ]
  },
  {
   "cell_type": "markdown",
   "metadata": {},
   "source": [
    "### Verify results in Hadoop using following commands:\n",
    "\n",
    "- Verify all files\n",
    "```\n",
    "docker-compose exec cloudera hadoop fs -ls /tmp/\n",
    "```\n",
    "- Verify specific file\n",
    "```\n",
    "docker-compose exec cloudera hadoop fs -ls /tmp/num_assessments\n",
    "```"
   ]
  }
 ],
 "metadata": {
  "kernelspec": {
   "display_name": "Python 3",
   "language": "python",
   "name": "python3"
  },
  "language_info": {
   "codemirror_mode": {
    "name": "ipython",
    "version": 3
   },
   "file_extension": ".py",
   "mimetype": "text/x-python",
   "name": "python",
   "nbconvert_exporter": "python",
   "pygments_lexer": "ipython3",
   "version": "3.6.1"
  }
 },
 "nbformat": 4,
 "nbformat_minor": 2
}
